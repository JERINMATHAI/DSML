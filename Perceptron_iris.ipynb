{
 "cells": [
  {
   "cell_type": "markdown",
   "metadata": {},
   "source": [
    "# perceptron- Iris dataset"
   ]
  },
  {
   "cell_type": "code",
   "execution_count": 1,
   "metadata": {},
   "outputs": [],
   "source": [
    "import numpy as np\n",
    "import pandas as pd\n",
    "import matplotlib.pyplot as plt\n",
    "import sklearn\n",
    "from sklearn.neural_network import MLPClassifier"
   ]
  },
  {
   "cell_type": "code",
   "execution_count": 3,
   "metadata": {},
   "outputs": [
    {
     "name": "stdout",
     "output_type": "stream",
     "text": [
      "     sepal_length  sepal_width  petal_length  petal_width    species\n",
      "0             5.1          3.5           1.4          0.2     setosa\n",
      "1             4.9          3.0           1.4          0.2     setosa\n",
      "2             4.7          3.2           1.3          0.2     setosa\n",
      "3             4.6          3.1           1.5          0.2     setosa\n",
      "4             5.0          3.6           1.4          0.2     setosa\n",
      "..            ...          ...           ...          ...        ...\n",
      "145           6.7          3.0           5.2          2.3  virginica\n",
      "146           6.3          2.5           5.0          1.9  virginica\n",
      "147           6.5          3.0           5.2          2.0  virginica\n",
      "148           6.2          3.4           5.4          2.3  virginica\n",
      "149           5.9          3.0           5.1          1.8  virginica\n",
      "\n",
      "[150 rows x 5 columns]\n",
      "(150, 5)\n"
     ]
    },
    {
     "data": {
      "text/html": [
       "<div>\n",
       "<style scoped>\n",
       "    .dataframe tbody tr th:only-of-type {\n",
       "        vertical-align: middle;\n",
       "    }\n",
       "\n",
       "    .dataframe tbody tr th {\n",
       "        vertical-align: top;\n",
       "    }\n",
       "\n",
       "    .dataframe thead th {\n",
       "        text-align: right;\n",
       "    }\n",
       "</style>\n",
       "<table border=\"1\" class=\"dataframe\">\n",
       "  <thead>\n",
       "    <tr style=\"text-align: right;\">\n",
       "      <th></th>\n",
       "      <th>count</th>\n",
       "      <th>mean</th>\n",
       "      <th>std</th>\n",
       "      <th>min</th>\n",
       "      <th>25%</th>\n",
       "      <th>50%</th>\n",
       "      <th>75%</th>\n",
       "      <th>max</th>\n",
       "    </tr>\n",
       "  </thead>\n",
       "  <tbody>\n",
       "    <tr>\n",
       "      <th>sepal_length</th>\n",
       "      <td>150.0</td>\n",
       "      <td>5.843333</td>\n",
       "      <td>0.828066</td>\n",
       "      <td>4.3</td>\n",
       "      <td>5.1</td>\n",
       "      <td>5.80</td>\n",
       "      <td>6.4</td>\n",
       "      <td>7.9</td>\n",
       "    </tr>\n",
       "    <tr>\n",
       "      <th>sepal_width</th>\n",
       "      <td>150.0</td>\n",
       "      <td>3.054000</td>\n",
       "      <td>0.433594</td>\n",
       "      <td>2.0</td>\n",
       "      <td>2.8</td>\n",
       "      <td>3.00</td>\n",
       "      <td>3.3</td>\n",
       "      <td>4.4</td>\n",
       "    </tr>\n",
       "    <tr>\n",
       "      <th>petal_length</th>\n",
       "      <td>150.0</td>\n",
       "      <td>3.758667</td>\n",
       "      <td>1.764420</td>\n",
       "      <td>1.0</td>\n",
       "      <td>1.6</td>\n",
       "      <td>4.35</td>\n",
       "      <td>5.1</td>\n",
       "      <td>6.9</td>\n",
       "    </tr>\n",
       "    <tr>\n",
       "      <th>petal_width</th>\n",
       "      <td>150.0</td>\n",
       "      <td>1.198667</td>\n",
       "      <td>0.763161</td>\n",
       "      <td>0.1</td>\n",
       "      <td>0.3</td>\n",
       "      <td>1.30</td>\n",
       "      <td>1.8</td>\n",
       "      <td>2.5</td>\n",
       "    </tr>\n",
       "  </tbody>\n",
       "</table>\n",
       "</div>"
      ],
      "text/plain": [
       "              count      mean       std  min  25%   50%  75%  max\n",
       "sepal_length  150.0  5.843333  0.828066  4.3  5.1  5.80  6.4  7.9\n",
       "sepal_width   150.0  3.054000  0.433594  2.0  2.8  3.00  3.3  4.4\n",
       "petal_length  150.0  3.758667  1.764420  1.0  1.6  4.35  5.1  6.9\n",
       "petal_width   150.0  1.198667  0.763161  0.1  0.3  1.30  1.8  2.5"
      ]
     },
     "execution_count": 3,
     "metadata": {},
     "output_type": "execute_result"
    }
   ],
   "source": [
    "df=pd.read_csv('iris.csv')\n",
    "print(df)\n",
    "print(df.shape)\n",
    "df.describe().transpose()"
   ]
  },
  {
   "cell_type": "code",
   "execution_count": 4,
   "metadata": {},
   "outputs": [
    {
     "name": "stdout",
     "output_type": "stream",
     "text": [
      "0         setosa\n",
      "1         setosa\n",
      "2         setosa\n",
      "3         setosa\n",
      "4         setosa\n",
      "         ...    \n",
      "145    virginica\n",
      "146    virginica\n",
      "147    virginica\n",
      "148    virginica\n",
      "149    virginica\n",
      "Name: species, Length: 150, dtype: object\n",
      "Index(['sepal_length', 'sepal_width', 'petal_length', 'petal_width'], dtype='object')\n"
     ]
    }
   ],
   "source": [
    "#extracting independent and dependent\n",
    "y=df['species']\n",
    "print(y)\n",
    "df=df.drop(['species'],axis=1)\n",
    "x=df\n",
    "cols=df.columns\n",
    "print(cols)"
   ]
  },
  {
   "cell_type": "code",
   "execution_count": 5,
   "metadata": {},
   "outputs": [
    {
     "name": "stdout",
     "output_type": "stream",
     "text": [
      "(112, 4)\n",
      "(38, 4)\n"
     ]
    }
   ],
   "source": [
    "from sklearn.model_selection import train_test_split\n",
    "x_train,x_test,y_train,y_test=train_test_split(x,y,test_size=0.25,random_state=0)\n",
    "print(x_train.shape)\n",
    "print(x_test.shape)"
   ]
  },
  {
   "cell_type": "code",
   "execution_count": 6,
   "metadata": {},
   "outputs": [
    {
     "name": "stdout",
     "output_type": "stream",
     "text": [
      "[[0.44444444 0.41666667 0.53448276 0.58333333]\n",
      " [0.41666667 0.25       0.5        0.45833333]\n",
      " [0.69444444 0.41666667 0.75862069 0.83333333]\n",
      " [0.11111111 0.5        0.03448276 0.04166667]\n",
      " [0.72222222 0.45833333 0.68965517 0.91666667]\n",
      " [0.19444444 0.625      0.0862069  0.20833333]\n",
      " [0.30555556 0.70833333 0.06896552 0.04166667]\n",
      " [0.19444444 0.         0.4137931  0.375     ]\n",
      " [0.61111111 0.41666667 0.75862069 0.70833333]\n",
      " [0.66666667 0.54166667 0.79310345 1.        ]\n",
      " [0.47222222 0.08333333 0.67241379 0.58333333]\n",
      " [0.66666667 0.20833333 0.81034483 0.70833333]\n",
      " [0.36111111 0.20833333 0.48275862 0.41666667]\n",
      " [0.94444444 0.41666667 0.86206897 0.91666667]\n",
      " [0.55555556 0.54166667 0.62068966 0.625     ]\n",
      " [0.33333333 0.16666667 0.46551724 0.41666667]\n",
      " [0.55555556 0.29166667 0.65517241 0.70833333]\n",
      " [0.55555556 0.33333333 0.68965517 0.58333333]\n",
      " [0.16666667 0.20833333 0.5862069  0.66666667]\n",
      " [0.55555556 0.20833333 0.67241379 0.75      ]\n",
      " [0.75       0.5        0.62068966 0.54166667]\n",
      " [0.61111111 0.41666667 0.70689655 0.79166667]\n",
      " [0.47222222 0.58333333 0.5862069  0.625     ]\n",
      " [0.13888889 0.45833333 0.0862069  0.04166667]\n",
      " [0.41666667 0.29166667 0.68965517 0.75      ]\n",
      " [0.36111111 0.29166667 0.53448276 0.5       ]\n",
      " [0.36111111 0.375      0.43103448 0.5       ]\n",
      " [0.33333333 0.20833333 0.5        0.5       ]\n",
      " [0.5        0.41666667 0.60344828 0.54166667]\n",
      " [0.80555556 0.5        0.84482759 0.70833333]\n",
      " [0.27777778 0.70833333 0.06896552 0.04166667]\n",
      " [0.         0.41666667 0.         0.        ]\n",
      " [0.58333333 0.29166667 0.72413793 0.75      ]\n",
      " [0.38888889 0.41666667 0.53448276 0.45833333]\n",
      " [0.30555556 0.58333333 0.10344828 0.04166667]\n",
      " [0.38888889 1.         0.06896552 0.125     ]\n",
      " [0.72222222 0.45833333 0.65517241 0.58333333]\n",
      " [0.08333333 0.45833333 0.06896552 0.04166667]\n",
      " [0.44444444 0.41666667 0.68965517 0.70833333]\n",
      " [0.22222222 0.20833333 0.32758621 0.41666667]\n",
      " [0.08333333 0.58333333 0.05172414 0.08333333]\n",
      " [0.52777778 0.08333333 0.5862069  0.58333333]\n",
      " [0.80555556 0.66666667 0.86206897 1.        ]\n",
      " [0.38888889 0.375      0.53448276 0.5       ]\n",
      " [0.13888889 0.41666667 0.05172414 0.        ]\n",
      " [0.77777778 0.41666667 0.82758621 0.83333333]\n",
      " [0.72222222 0.5        0.79310345 0.91666667]\n",
      " [0.61111111 0.41666667 0.81034483 0.875     ]\n",
      " [0.58333333 0.33333333 0.77586207 0.83333333]\n",
      " [0.22222222 0.75       0.0862069  0.04166667]\n",
      " [0.13888889 0.58333333 0.0862069  0.04166667]\n",
      " [0.61111111 0.5        0.68965517 0.79166667]\n",
      " [0.66666667 0.54166667 0.79310345 0.83333333]\n",
      " [0.05555556 0.125      0.03448276 0.08333333]\n",
      " [0.52777778 0.58333333 0.74137931 0.91666667]\n",
      " [0.16666667 0.41666667 0.05172414 0.04166667]\n",
      " [0.38888889 0.20833333 0.67241379 0.79166667]\n",
      " [0.72222222 0.45833333 0.74137931 0.83333333]\n",
      " [0.02777778 0.5        0.03448276 0.04166667]\n",
      " [0.19444444 0.66666667 0.05172414 0.04166667]\n",
      " [0.80555556 0.41666667 0.81034483 0.625     ]\n",
      " [0.22222222 0.625      0.05172414 0.08333333]\n",
      " [0.02777778 0.41666667 0.03448276 0.04166667]\n",
      " [0.30555556 0.79166667 0.10344828 0.125     ]\n",
      " [0.33333333 0.125      0.5        0.5       ]\n",
      " [0.69444444 0.5        0.82758621 0.91666667]\n",
      " [0.91666667 0.41666667 0.94827586 0.83333333]\n",
      " [0.22222222 0.625      0.05172414 0.04166667]\n",
      " [0.16666667 0.45833333 0.06896552 0.        ]\n",
      " [0.25       0.58333333 0.05172414 0.04166667]\n",
      " [0.38888889 0.33333333 0.5862069  0.5       ]\n",
      " [0.63888889 0.41666667 0.56896552 0.54166667]\n",
      " [0.19444444 0.5        0.01724138 0.04166667]\n",
      " [0.22222222 0.54166667 0.10344828 0.16666667]\n",
      " [0.58333333 0.375      0.55172414 0.5       ]\n",
      " [0.30555556 0.58333333 0.06896552 0.125     ]\n",
      " [0.94444444 0.25       1.         0.91666667]\n",
      " [0.16666667 0.16666667 0.37931034 0.375     ]\n",
      " [1.         0.75       0.9137931  0.79166667]\n",
      " [0.66666667 0.45833333 0.56896552 0.54166667]\n",
      " [0.25       0.875      0.06896552 0.        ]\n",
      " [0.47222222 0.41666667 0.63793103 0.70833333]\n",
      " [0.41666667 0.83333333 0.01724138 0.04166667]\n",
      " [0.94444444 0.33333333 0.96551724 0.79166667]\n",
      " [0.22222222 0.75       0.06896552 0.08333333]\n",
      " [0.11111111 0.5        0.0862069  0.04166667]\n",
      " [0.86111111 0.33333333 0.86206897 0.75      ]\n",
      " [0.19444444 0.54166667 0.05172414 0.04166667]\n",
      " [0.55555556 0.58333333 0.77586207 0.95833333]\n",
      " [0.38888889 0.33333333 0.51724138 0.5       ]\n",
      " [0.41666667 0.29166667 0.48275862 0.45833333]\n",
      " [0.38888889 0.25       0.4137931  0.375     ]\n",
      " [0.58333333 0.5        0.72413793 0.91666667]\n",
      " [0.66666667 0.41666667 0.70689655 0.91666667]\n",
      " [0.55555556 0.20833333 0.65517241 0.58333333]\n",
      " [0.66666667 0.41666667 0.67241379 0.66666667]\n",
      " [0.19444444 0.41666667 0.0862069  0.04166667]\n",
      " [0.33333333 0.16666667 0.44827586 0.375     ]\n",
      " [0.66666667 0.45833333 0.77586207 0.95833333]\n",
      " [0.41666667 0.29166667 0.68965517 0.75      ]\n",
      " [0.22222222 0.58333333 0.06896552 0.04166667]\n",
      " [0.63888889 0.375      0.60344828 0.5       ]\n",
      " [0.36111111 0.41666667 0.51724138 0.5       ]\n",
      " [0.44444444 0.5        0.63793103 0.70833333]\n",
      " [0.55555556 0.125      0.56896552 0.5       ]\n",
      " [0.33333333 0.625      0.03448276 0.04166667]\n",
      " [0.22222222 0.70833333 0.06896552 0.125     ]\n",
      " [0.16666667 0.45833333 0.06896552 0.        ]\n",
      " [0.55555556 0.375      0.77586207 0.70833333]\n",
      " [0.41666667 0.29166667 0.51724138 0.375     ]\n",
      " [0.94444444 0.75       0.96551724 0.875     ]\n",
      " [0.08333333 0.5        0.05172414 0.04166667]]\n"
     ]
    }
   ],
   "source": [
    "from sklearn.preprocessing import MinMaxScaler\n",
    "st_x=MinMaxScaler()\n",
    "x_train=st_x.fit_transform(x_train)\n",
    "x_test=st_x.fit_transform(x_test)\n",
    "print(x_train)"
   ]
  },
  {
   "cell_type": "code",
   "execution_count": 7,
   "metadata": {},
   "outputs": [
    {
     "name": "stderr",
     "output_type": "stream",
     "text": [
      "/home/mca/anaconda3/lib/python3.8/site-packages/sklearn/neural_network/_multilayer_perceptron.py:582: ConvergenceWarning: Stochastic Optimizer: Maximum iterations (800) reached and the optimization hasn't converged yet.\n",
      "  warnings.warn(\n"
     ]
    }
   ],
   "source": [
    "classifier=MLPClassifier(hidden_layer_sizes=(8,8,8),activation='relu',solver='adam',max_iter=800)\n",
    "classifier.fit(x_train,y_train)\n",
    "\n",
    "x_pred=classifier.predict(x_train)\n",
    "y_pred=classifier.predict(x_test)"
   ]
  },
  {
   "cell_type": "code",
   "execution_count": 8,
   "metadata": {},
   "outputs": [
    {
     "name": "stdout",
     "output_type": "stream",
     "text": [
      "['virginica' 'versicolor' 'setosa' 'virginica' 'setosa' 'virginica'\n",
      " 'setosa' 'versicolor' 'versicolor' 'versicolor' 'virginica' 'versicolor'\n",
      " 'versicolor' 'versicolor' 'versicolor' 'setosa' 'versicolor' 'versicolor'\n",
      " 'setosa' 'setosa' 'virginica' 'versicolor' 'setosa' 'setosa' 'virginica'\n",
      " 'setosa' 'setosa' 'versicolor' 'versicolor' 'setosa' 'virginica'\n",
      " 'versicolor' 'setosa' 'virginica' 'virginica' 'versicolor' 'setosa'\n",
      " 'versicolor']\n",
      "['virginica' 'versicolor' 'setosa' 'virginica' 'setosa' 'virginica'\n",
      " 'setosa' 'versicolor' 'versicolor' 'versicolor' 'virginica' 'versicolor'\n",
      " 'versicolor' 'versicolor' 'versicolor' 'setosa' 'versicolor' 'versicolor'\n",
      " 'setosa' 'setosa' 'virginica' 'versicolor' 'setosa' 'setosa' 'virginica'\n",
      " 'setosa' 'setosa' 'versicolor' 'versicolor' 'setosa' 'virginica'\n",
      " 'versicolor' 'setosa' 'virginica' 'virginica' 'versicolor' 'setosa'\n",
      " 'virginica']\n"
     ]
    }
   ],
   "source": [
    "print(y_test.values)\n",
    "print(y_pred)"
   ]
  },
  {
   "cell_type": "code",
   "execution_count": 9,
   "metadata": {},
   "outputs": [
    {
     "name": "stdout",
     "output_type": "stream",
     "text": [
      "[[13  0  0]\n",
      " [ 0 15  1]\n",
      " [ 0  0  9]]\n"
     ]
    }
   ],
   "source": [
    "from sklearn.metrics import confusion_matrix\n",
    "cm=confusion_matrix(y_test,y_pred)\n",
    "print(cm)"
   ]
  },
  {
   "cell_type": "code",
   "execution_count": 10,
   "metadata": {},
   "outputs": [
    {
     "name": "stdout",
     "output_type": "stream",
     "text": [
      "[[37  0  0]\n",
      " [ 0 33  1]\n",
      " [ 0  1 40]]\n"
     ]
    }
   ],
   "source": [
    "from sklearn.metrics import confusion_matrix\n",
    "cm1=confusion_matrix(y_train,x_pred)\n",
    "print(cm1)"
   ]
  },
  {
   "cell_type": "code",
   "execution_count": 11,
   "metadata": {},
   "outputs": [
    {
     "data": {
      "text/plain": [
       "<sklearn.metrics._plot.confusion_matrix.ConfusionMatrixDisplay at 0x7efd8f2c4e20>"
      ]
     },
     "execution_count": 11,
     "metadata": {},
     "output_type": "execute_result"
    },
    {
     "data": {
      "image/png": "[encoded data removed]",
      "text/plain": [
       "<Figure size 432x288 with 2 Axes>"
      ]
     },
     "metadata": {
      "needs_background": "light"
     },
     "output_type": "display_data"
    }
   ],
   "source": [
    "#confusion matrix display\n",
    "from sklearn.metrics import ConfusionMatrixDisplay\n",
    "disp=ConfusionMatrixDisplay(confusion_matrix=cm,display_labels=classifier.classes_)\n",
    "disp.plot()"
   ]
  },
  {
   "cell_type": "code",
   "execution_count": 12,
   "metadata": {},
   "outputs": [
    {
     "data": {
      "text/plain": [
       "<sklearn.metrics._plot.confusion_matrix.ConfusionMatrixDisplay at 0x7efd8f374e80>"
      ]
     },
     "execution_count": 12,
     "metadata": {},
     "output_type": "execute_result"
    },
    {
     "data": {
      "image/png": "[encoded data removed]",
      "text/plain": [
       "<Figure size 432x288 with 2 Axes>"
      ]
     },
     "metadata": {
      "needs_background": "light"
     },
     "output_type": "display_data"
    }
   ],
   "source": [
    "#confusion matrix display\n",
    "from sklearn.metrics import ConfusionMatrixDisplay\n",
    "disp=ConfusionMatrixDisplay(confusion_matrix=cm1,display_labels=classifier.classes_)\n",
    "disp.plot()"
   ]
  },
  {
   "cell_type": "code",
   "execution_count": 13,
   "metadata": {},
   "outputs": [
    {
     "data": {
      "text/plain": [
       "[array([[ 6.75399279e-01,  6.80833192e-01,  1.40872486e-01,\n",
       "         -5.71514364e-05,  2.07902736e-01,  6.73948241e-02,\n",
       "         -2.69505333e-01, -4.51885690e-01],\n",
       "        [ 3.14293976e-01, -5.37022862e-01,  1.06835149e+00,\n",
       "         -9.97980418e-02, -1.06646953e-01, -7.11294676e-01,\n",
       "          3.12885796e-01,  8.27238844e-02],\n",
       "        [ 7.03002985e-01,  5.63488425e-01, -8.59372747e-01,\n",
       "          8.08683786e-21, -1.89426397e-01,  1.68550971e-01,\n",
       "         -9.24704562e-01,  1.22203602e+00],\n",
       "        [-3.19358245e-01,  8.62824322e-01, -5.48063358e-01,\n",
       "         -2.53376033e-02, -1.04724950e+00,  1.36784493e-01,\n",
       "         -5.15455820e-01,  5.20357804e-01]]),\n",
       " array([[ 2.17309231e-01, -2.81442226e-01, -1.21442475e-03,\n",
       "          4.56228193e-02,  2.69826445e-01,  1.38221955e-15,\n",
       "          2.69164717e-01,  4.73708714e-01],\n",
       "        [ 6.08277682e-01,  2.15208712e-01, -9.09276774e-03,\n",
       "         -2.02876973e-01,  4.02207421e-01, -3.64041644e-04,\n",
       "          2.77197660e-01, -5.00124093e-01],\n",
       "        [-3.23851129e-01,  8.17963500e-01,  1.35220714e-03,\n",
       "         -9.85931632e-04, -1.00458799e+00,  1.73380505e-09,\n",
       "         -9.80925998e-01,  1.35815073e-01],\n",
       "        [ 2.27721864e-02, -2.87980564e-15,  2.81193756e-03,\n",
       "          1.30910823e-02, -1.00760654e-02, -1.01414344e-01,\n",
       "          2.28546249e-02,  5.59645043e-06],\n",
       "        [-3.57507883e-01,  5.90173569e-01,  9.02371175e-05,\n",
       "          1.64858623e-01, -9.55035597e-01,  1.83258109e-02,\n",
       "         -4.66971055e-01,  5.09818463e-01],\n",
       "        [-2.15171317e-01, -6.40192186e-01, -7.20945961e-02,\n",
       "          4.99238131e-01,  2.42234259e-02,  3.66897769e-19,\n",
       "          4.62217576e-01,  3.85202453e-01],\n",
       "        [-1.17903651e+00,  7.00905627e-01,  5.45445135e-02,\n",
       "         -4.00803933e-03,  7.59267069e-01, -6.81481520e-02,\n",
       "         -4.61233709e-02,  5.20417726e-01],\n",
       "        [-2.00621756e-01, -7.09534367e-01,  6.27297508e-04,\n",
       "          1.82543694e-12,  9.07780843e-01, -9.29415903e-02,\n",
       "          1.01797661e+00, -8.56709586e-01]]),\n",
       " array([[-1.92094086e-02,  1.11215910e+00,  1.72260583e-01,\n",
       "         -1.32028341e-01,  6.68792793e-01,  2.98528465e-01,\n",
       "          1.11604068e+00, -6.42310755e-02],\n",
       "        [-6.74303882e-02, -1.79646785e-01, -1.03934415e+00,\n",
       "         -6.47616457e-01, -4.87852776e-01, -5.87603286e-01,\n",
       "          3.31985610e-01, -1.57208391e-02],\n",
       "        [-1.09560504e-04,  6.29039150e-08, -3.23894206e-05,\n",
       "          5.06758983e-05, -3.49619361e-02, -1.54940398e-02,\n",
       "         -3.45486103e-02, -1.79209791e-02],\n",
       "        [ 8.59949860e-07,  1.02235348e-01, -1.96685001e-06,\n",
       "         -2.03791542e-01,  2.81303258e-01,  1.18414313e-01,\n",
       "         -5.57179782e-01, -4.72941432e-02],\n",
       "        [ 1.08419813e-12,  1.07016202e+00,  1.16097045e+00,\n",
       "          9.01550306e-01,  8.02607617e-01,  6.68052274e-02,\n",
       "         -7.68881709e-02,  3.42169971e-02],\n",
       "        [-3.14712680e-19,  4.49515639e-06, -9.43343823e-02,\n",
       "          1.07291606e-05, -7.15902405e-05, -1.02417508e-02,\n",
       "          1.52605646e-09, -1.14210778e-18],\n",
       "        [ 6.64212597e-02, -7.08615949e-01,  1.53268334e+00,\n",
       "         -7.49224039e-02, -1.26394293e+00,  1.09269234e+00,\n",
       "          2.87666955e-01,  8.45891463e-02],\n",
       "        [-1.71227705e-06, -3.15452102e-01, -1.05085781e+00,\n",
       "         -8.32068400e-01,  1.70302968e-01, -6.96526810e-01,\n",
       "         -4.67124960e-01, -8.20292257e-13]]),\n",
       " array([[-5.44043039e-02, -2.15795008e-02, -4.08833081e-07],\n",
       "        [-6.35198467e-01,  4.43858341e-01, -4.45214563e-02],\n",
       "        [ 5.19348867e-03, -1.23908420e+00,  9.09166654e-01],\n",
       "        [-6.45481053e-01, -4.70043531e-01,  1.24674477e+00],\n",
       "        [-9.18685036e-01,  5.57580928e-01, -6.07012915e-01],\n",
       "        [-5.08593775e-01, -5.34099212e-01,  4.72608992e-01],\n",
       "        [-4.34833377e-01,  9.00144663e-01,  3.85316678e-01],\n",
       "        [ 2.70592222e-02, -5.20574812e-02,  3.71989299e-05]])]"
      ]
     },
     "execution_count": 13,
     "metadata": {},
     "output_type": "execute_result"
    }
   ],
   "source": [
    "classifier.coefs_"
   ]
  },
  {
   "cell_type": "code",
   "execution_count": 14,
   "metadata": {},
   "outputs": [
    {
     "data": {
      "text/plain": [
       "[array([ 0.36457053,  0.33677287,  0.62313826, -0.57773632,  0.91643261,\n",
       "        -0.15480478,  0.63082727, -0.52199719]),\n",
       " array([ 0.86644271,  0.35570871, -0.60974091, -0.09911017,  0.75218769,\n",
       "        -0.4706397 , -0.44327577,  0.76830124]),\n",
       " array([-0.12909595,  0.81679457, -0.33891457,  0.20439427,  0.63395537,\n",
       "         0.26341806,  0.14498131, -0.33722179]),\n",
       " array([ 1.47232388, -0.57399636, -0.99398259])]"
      ]
     },
     "execution_count": 14,
     "metadata": {},
     "output_type": "execute_result"
    }
   ],
   "source": [
    "classifier.intercepts_"
   ]
  },
  {
   "cell_type": "code",
   "execution_count": null,
   "metadata": {},
   "outputs": [],
   "source": []
  }
 ],
 "metadata": {
  "kernelspec": {
   "display_name": "Python 3",
   "language": "python",
   "name": "python3"
  },
  "language_info": {
   "codemirror_mode": {
    "name": "ipython",
    "version": 3
   },
   "file_extension": ".py",
   "mimetype": "text/x-python",
   "name": "python",
   "nbconvert_exporter": "python",
   "pygments_lexer": "ipython3",
   "version": "3.8.5"
  }
 },
 "nbformat": 4,
 "nbformat_minor": 4
}
