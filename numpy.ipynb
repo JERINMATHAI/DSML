{
 "cells": [
  {
   "cell_type": "code",
   "execution_count": 1,
   "id": "af18ba39",
   "metadata": {},
   "outputs": [
    {
     "name": "stdout",
     "output_type": "stream",
     "text": [
      "Requirement already satisfied: numpy in c:\\users\\lenovo\\anaconda3\\lib\\site-packages (1.20.3)Note: you may need to restart the kernel to use updated packages.\n",
      "\n"
     ]
    }
   ],
   "source": [
    "!pip install numpy"
   ]
  },
  {
   "cell_type": "code",
   "execution_count": 2,
   "id": "2ae41445",
   "metadata": {},
   "outputs": [
    {
     "name": "stdout",
     "output_type": "stream",
     "text": [
      "list to array :  [1 2 3]\n",
      "3\n"
     ]
    }
   ],
   "source": [
    "import numpy as np\n",
    "arr=np.array([1,2,3])\n",
    "print(\"list to array : \",arr)\n",
    "print(arr[2])"
   ]
  },
  {
   "cell_type": "code",
   "execution_count": 3,
   "id": "b2048d1b",
   "metadata": {},
   "outputs": [
    {
     "name": "stdout",
     "output_type": "stream",
     "text": [
      "array is : \n",
      " [[1 2 3]\n",
      " [3 6 9]]\n"
     ]
    }
   ],
   "source": [
    "import numpy as np\n",
    "arr1=np.array([[1,2,3],[3,6,9]])\n",
    "print(\"array is : \\n\",arr1)"
   ]
  },
  {
   "cell_type": "code",
   "execution_count": 4,
   "id": "97eef13b",
   "metadata": {},
   "outputs": [
    {
     "name": "stdout",
     "output_type": "stream",
     "text": [
      "tuple to array :  [1 2 3]\n"
     ]
    }
   ],
   "source": [
    "arr=np.array((1,2,3))\n",
    "print(\"tuple to array : \",arr)"
   ]
  },
  {
   "cell_type": "code",
   "execution_count": 5,
   "id": "8c6b5c1e",
   "metadata": {},
   "outputs": [
    {
     "name": "stdout",
     "output_type": "stream",
     "text": [
      "array accessing :  2\n",
      "1\n",
      "6\n"
     ]
    }
   ],
   "source": [
    "arr1=np.array([[1,2,3],[3,6,9]])\n",
    "print(\"array accessing : \",arr1[0][1])\n",
    "print(arr1[0][0])\n",
    "print(arr1[1][1])"
   ]
  },
  {
   "cell_type": "code",
   "execution_count": 6,
   "id": "8a299f05",
   "metadata": {},
   "outputs": [
    {
     "name": "stdout",
     "output_type": "stream",
     "text": [
      "tuple to array :  [1 2 3]\n"
     ]
    }
   ],
   "source": [
    "arr=np.array((1,2,3))\n",
    "print(\"tuple to array : \",arr)"
   ]
  },
  {
   "cell_type": "code",
   "execution_count": 7,
   "id": "46443cf4",
   "metadata": {},
   "outputs": [
    {
     "name": "stdout",
     "output_type": "stream",
     "text": [
      "array accessing :  2\n",
      "1\n",
      "6\n"
     ]
    }
   ],
   "source": [
    "arr1=np.array([[1,2,3],[3,6,9]])\n",
    "print(\"array accessing : \",arr1[0][1])\n",
    "print(arr1[0][0])\n",
    "print(arr1[1][1])"
   ]
  },
  {
   "cell_type": "code",
   "execution_count": 8,
   "id": "dbcfc855",
   "metadata": {},
   "outputs": [
    {
     "name": "stdout",
     "output_type": "stream",
     "text": [
      "3D mtrx : \n",
      " [[[ 1  2  3]\n",
      "  [ 3  6  9]]\n",
      "\n",
      " [[ 2  4  6]\n",
      "  [ 8 10 12]]]\n",
      "9\n",
      "12\n"
     ]
    }
   ],
   "source": [
    "arr=np.array([[[1,2,3],[3,6,9]],[[2,4,6],[8,10,12]]])\n",
    "print(\"3D mtrx : \\n\",arr)\n",
    "print(arr[0,1,2]) #0 implies the frst 2d mtrx and the others -> index\n",
    "print(arr[1,1,2])"
   ]
  },
  {
   "cell_type": "code",
   "execution_count": 9,
   "id": "afdd32f8",
   "metadata": {},
   "outputs": [
    {
     "name": "stdout",
     "output_type": "stream",
     "text": [
      "2D mtrx : \n",
      " [[ 1  2  3]\n",
      " [ 3  6  9]\n",
      " [ 2  4  6]\n",
      " [ 8 10 12]]\n"
     ]
    }
   ],
   "source": [
    "arr=np.array([[1,2,3],[3,6,9],[2,4,6],[8,10,12]])\n",
    "print(\"2D mtrx : \\n\",arr)"
   ]
  },
  {
   "cell_type": "code",
   "execution_count": 10,
   "id": "4f05f3b5",
   "metadata": {},
   "outputs": [
    {
     "name": "stdout",
     "output_type": "stream",
     "text": [
      "[1 2 3 4]\n",
      "[0 1 2 3 4 5 6 7]\n",
      "[ 0  2  4  6  8 10]\n",
      "[1 3 5 7 9]\n"
     ]
    }
   ],
   "source": [
    "#SLICING OF ARRAY\n",
    "\n",
    "arr=np.array([0,1,2,3,4,5,6,7,8,9,10])\n",
    "print(arr[1:5])\n",
    "print(arr[0:8])\n",
    "print(arr[::2])\n",
    "print(arr[1::2])  # [strt:end:step]"
   ]
  },
  {
   "cell_type": "code",
   "execution_count": 11,
   "id": "c8b05c7a",
   "metadata": {},
   "outputs": [
    {
     "name": "stdout",
     "output_type": "stream",
     "text": [
      "2D array is\n",
      " [[ 1  2  3  4  5]\n",
      " [10 20 30 40 50]] \n",
      "\n",
      "\n",
      " [20 30 40]\n",
      "\n",
      " [20 40]\n",
      "\n",
      " [2 3]\n",
      "\n",
      " [2 4]\n",
      "\n",
      " [ 3 30]\n",
      "\n",
      " [[ 1  2  3]\n",
      " [10 20 30]]\n",
      "\n",
      " [[1 2 3]]\n",
      "\n",
      " [[ 1  3  5]\n",
      " [10 30 50]]\n",
      "\n",
      " [[ 1  3  5]\n",
      " [10 30 50]]\n"
     ]
    }
   ],
   "source": [
    "arr=np.array([[1,2,3,4,5],[10,20,30,40,50]])\n",
    "print(\"2D array is\\n\",arr,\"\\n\")\n",
    "print(\"\\n\",arr[1,1:4])\n",
    "print(\"\\n\",arr[1,1:4:2])\n",
    "\n",
    "print(\"\\n\",arr[0,1:3])\n",
    "print(\"\\n\",arr[0,1:4:2])\n",
    "\n",
    "print(\"\\n\",arr[0:2,2])    # datas of 2 column\n",
    "print(\"\\n\",arr[0:2,0:3])  # here 0:2 implies 0,1 rows\n",
    "print(\"\\n\",arr[0:1,0:3])  # here 0:1 implies 0th rows\n",
    "\n",
    "print(\"\\n\",arr[0:2,0:5:2])\n",
    "print(\"\\n\",arr[:,::2])   "
   ]
  },
  {
   "cell_type": "code",
   "execution_count": 12,
   "id": "a41b6121",
   "metadata": {},
   "outputs": [
    {
     "name": "stdout",
     "output_type": "stream",
     "text": [
      "\n",
      " [[  1   2   3   4   5]\n",
      " [ 10  20  30  40  50]\n",
      " [100 200 300 400 500]] \n",
      "\n",
      "Here step size is 1\n",
      " [[  1   4]\n",
      " [ 10  40]\n",
      " [100 400]]\n",
      "\n",
      "Here step size is 2\n",
      " [[  1   4]\n",
      " [100 400]]\n",
      "\n",
      "Here step size is 3\n",
      " [[1 4]]\n",
      "\n",
      " [[  1   3   5]\n",
      " [ 10  30  50]\n",
      " [100 300 500]]\n",
      "\n",
      " [[  1   3   5]\n",
      " [100 300 500]]\n"
     ]
    }
   ],
   "source": [
    "arr=np.array([[1,2,3,4,5],[10,20,30,40,50],[100,200,300,400,500]])\n",
    "print(\"\\n\",arr,\"\\n\")\n",
    "print(\"Here step size is 1\\n\",arr[0:3,0:5:3])\n",
    "print(\"\\nHere step size is 2\\n\",arr[0:3:2,0:5:3])\n",
    "print(\"\\nHere step size is 3\\n\",arr[0:3:3,0:5:3])\n",
    "print(\"\\n\",arr[::,::2]) \n",
    "print(\"\\n\",arr[::2,::2])"
   ]
  },
  {
   "cell_type": "code",
   "execution_count": 13,
   "id": "62ce94f6",
   "metadata": {},
   "outputs": [
    {
     "name": "stdout",
     "output_type": "stream",
     "text": [
      "<class 'numpy.ndarray'>\n",
      "int32\n",
      "(3, 5)\n",
      "(2, 2, 3)\n"
     ]
    }
   ],
   "source": [
    "print((type(arr)))\n",
    "print(arr.dtype)\n",
    "print(arr.shape)\n",
    "\n",
    "arr1=np.array([[[1,2,3],[3,6,9]],[[2,4,6],[8,10,12]]])\n",
    "print(arr1.shape)"
   ]
  },
  {
   "cell_type": "code",
   "execution_count": 14,
   "id": "3fcf30c6",
   "metadata": {},
   "outputs": [
    {
     "name": "stdout",
     "output_type": "stream",
     "text": [
      "[[  1   2   3   4   5]\n",
      " [ 10  20  30  40  50]\n",
      " [100 200 300 400 500]] \n",
      "\n",
      "[[  1   3   5   7   9]\n",
      " [ 11  22  33  44  55]\n",
      " [ 66  77  88  99 111]] \n",
      "\n",
      "Addition of 2 matrx : \n",
      " [[  2   5   8  11  14]\n",
      " [ 21  42  63  84 105]\n",
      " [166 277 388 499 611]]\n"
     ]
    }
   ],
   "source": [
    "#MATRIX ADDITION\n",
    "\n",
    "a1=np.array([[1,2,3,4,5],[10,20,30,40,50],[100,200,300,400,500]])\n",
    "a2=np.array([[1,3,5,7,9],[11,22,33,44,55],[66,77,88,99,111]])\n",
    "print(a1,\"\\n\")\n",
    "print(a2,\"\\n\")\n",
    "sum=a1+a2\n",
    "print(\"Addition of 2 matrx : \\n\",sum)"
   ]
  },
  {
   "cell_type": "code",
   "execution_count": 15,
   "id": "14de308e",
   "metadata": {},
   "outputs": [
    {
     "name": "stdout",
     "output_type": "stream",
     "text": [
      "[[  1   2   3]\n",
      " [ 10  20  30]\n",
      " [100 200 300]] \n",
      "\n",
      "[[ 1  3  5]\n",
      " [11 22 33]\n",
      " [66 77 88]] \n",
      "\n",
      "Matrix multiplication : \n",
      "\n",
      " [[  221   278   335]\n",
      " [ 2210  2780  3350]\n",
      " [22100 27800 33500]]\n"
     ]
    }
   ],
   "source": [
    "#MATRIX MULTIPLICATION\n",
    "\n",
    "a1=np.array([[1,2,3],[10,20,30],[100,200,300]])\n",
    "a2=np.array([[1,3,5],[11,22,33],[66,77,88]])\n",
    "print(a1,\"\\n\")\n",
    "print(a2,\"\\n\")\n",
    "print(\"Matrix multiplication : \\n\\n\",np.dot(a1,a2))"
   ]
  },
  {
   "cell_type": "code",
   "execution_count": 16,
   "id": "b303b905",
   "metadata": {},
   "outputs": [
    {
     "name": "stdout",
     "output_type": "stream",
     "text": [
      "[[  221   278   335]\n",
      " [ 2210  2780  3350]\n",
      " [22100 27800 33500]]\n",
      "[[    1     6    15]\n",
      " [  110   440   990]\n",
      " [ 6600 15400 26400]]\n"
     ]
    }
   ],
   "source": [
    "a1=np.array([[1,2,3],[10,20,30],[100,200,300]])\n",
    "a2=np.array([[1,3,5],[11,22,33],[66,77,88]])\n",
    "\n",
    "print(a1@a2)\n",
    "print(a1*a2)"
   ]
  },
  {
   "cell_type": "code",
   "execution_count": 17,
   "id": "2341dc7c",
   "metadata": {},
   "outputs": [
    {
     "name": "stdout",
     "output_type": "stream",
     "text": [
      "[10  9  8  7  6  5  4  3  2  1]\n",
      "[[ 1  2]\n",
      " [ 3  4]\n",
      " [ 5  6]\n",
      " [ 7  8]\n",
      " [ 9 10]]\n"
     ]
    }
   ],
   "source": [
    "arr=np.array([1,2,3,4,5,6,7,8,9,10])\n",
    "print(arr[::-1])   #REVERSE\n",
    "arr.resize(5,2)\n",
    "print(arr)\n"
   ]
  },
  {
   "cell_type": "code",
   "execution_count": 18,
   "id": "0af323eb",
   "metadata": {},
   "outputs": [
    {
     "name": "stdout",
     "output_type": "stream",
     "text": [
      "[0 1 2 3 4]\n",
      "[12 13 14 15 16 17 18 19 20 21 22 23 24 25 26 27 28 29 30 31 32 33 34 35\n",
      " 36 37]\n",
      "[ 0  1  2  3  4  5  6  7  8  9 10 11 12 13 14]\n"
     ]
    }
   ],
   "source": [
    "arr=np.arange(5)\n",
    "a=np.arange(12,38)\n",
    "arr1=np.arange(15)\n",
    "print(arr)\n",
    "print(a)\n",
    "print(arr1)"
   ]
  },
  {
   "cell_type": "code",
   "execution_count": 20,
   "id": "05a27a8a",
   "metadata": {},
   "outputs": [
    {
     "name": "stdout",
     "output_type": "stream",
     "text": [
      "[[0.90860178 0.49572812 0.72685298]\n",
      " [0.22316541 0.66251838 0.74370574]\n",
      " [0.17994592 0.07072612 0.44994061]]\n"
     ]
    }
   ],
   "source": [
    "n=np.random.random([3,3])\n",
    "print(n)"
   ]
  },
  {
   "cell_type": "code",
   "execution_count": 21,
   "id": "d2e98329",
   "metadata": {},
   "outputs": [
    {
     "name": "stdout",
     "output_type": "stream",
     "text": [
      "[[1.+0.j 2.+5.j]]\n",
      "[[1. 2.]]\n",
      "[[0. 5.]]\n"
     ]
    }
   ],
   "source": [
    "z=np.array([[1+0.j,2+5.j]])\n",
    "print(z)\n",
    "print(z.real)\n",
    "print(z.imag)"
   ]
  },
  {
   "cell_type": "code",
   "execution_count": 22,
   "id": "741d5848",
   "metadata": {},
   "outputs": [
    {
     "name": "stdout",
     "output_type": "stream",
     "text": [
      "[[1.+0.j 2.+0.j]\n",
      " [3.+0.j 4.+0.j]]\n"
     ]
    }
   ],
   "source": [
    "z=np.array([[1,2],[3,4]],dtype=complex)\n",
    "print(z)"
   ]
  },
  {
   "cell_type": "code",
   "execution_count": 24,
   "id": "b18ddc15",
   "metadata": {},
   "outputs": [
    {
     "name": "stdout",
     "output_type": "stream",
     "text": [
      "[[1. 1. 1. 1. 1.]\n",
      " [1. 1. 1. 1. 1.]\n",
      " [1. 1. 1. 1. 1.]\n",
      " [1. 1. 1. 1. 1.]\n",
      " [1. 1. 1. 1. 1.]]\n",
      "[[0. 0. 0. 0. 0.]\n",
      " [0. 0. 0. 0. 0.]\n",
      " [0. 0. 0. 0. 0.]\n",
      " [0. 0. 0. 0. 0.]\n",
      " [0. 0. 0. 0. 0.]]\n"
     ]
    }
   ],
   "source": [
    "q=np.ones((5,5))\n",
    "print(q)\n",
    "\n",
    "w=np.zeros((5,5))\n",
    "print(w)"
   ]
  },
  {
   "cell_type": "code",
   "execution_count": 25,
   "id": "638ae446",
   "metadata": {},
   "outputs": [
    {
     "name": "stdout",
     "output_type": "stream",
     "text": [
      "1 on the border and 0 inside the array : \n",
      "\n",
      "[[1. 1. 1. 1. 1.]\n",
      " [1. 0. 0. 0. 1.]\n",
      " [1. 0. 0. 0. 1.]\n",
      " [1. 0. 0. 0. 1.]\n",
      " [1. 1. 1. 1. 1.]]\n"
     ]
    }
   ],
   "source": [
    "print(\"1 on the border and 0 inside the array : \\n\")\n",
    "q[1:4,1:4]=0   #q[1:-1,1:-1]=0 \n",
    "print(q)"
   ]
  },
  {
   "cell_type": "code",
   "execution_count": 26,
   "id": "d21b14d0",
   "metadata": {},
   "outputs": [
    {
     "name": "stdout",
     "output_type": "stream",
     "text": [
      "[[0. 1. 0. 1. 0. 1. 0. 1.]\n",
      " [1. 0. 1. 0. 1. 0. 1. 0.]\n",
      " [0. 1. 0. 1. 0. 1. 0. 1.]\n",
      " [1. 0. 1. 0. 1. 0. 1. 0.]\n",
      " [0. 1. 0. 1. 0. 1. 0. 1.]\n",
      " [1. 0. 1. 0. 1. 0. 1. 0.]\n",
      " [0. 1. 0. 1. 0. 1. 0. 1.]\n",
      " [1. 0. 1. 0. 1. 0. 1. 0.]]\n"
     ]
    }
   ],
   "source": [
    "z=np.ones((8,8))\n",
    "z[0::2,0::2]=0\n",
    "z[1::2,1::2]=0\n",
    "print(z)"
   ]
  },
  {
   "cell_type": "code",
   "execution_count": 27,
   "id": "e13f62d3",
   "metadata": {},
   "outputs": [
    {
     "name": "stdout",
     "output_type": "stream",
     "text": [
      "[[1. 0. 1. 0. 1. 0. 1. 0.]\n",
      " [0. 1. 0. 1. 0. 1. 0. 1.]\n",
      " [1. 0. 1. 0. 1. 0. 1. 0.]\n",
      " [0. 1. 0. 1. 0. 1. 0. 1.]\n",
      " [1. 0. 1. 0. 1. 0. 1. 0.]\n",
      " [0. 1. 0. 1. 0. 1. 0. 1.]\n",
      " [1. 0. 1. 0. 1. 0. 1. 0.]\n",
      " [0. 1. 0. 1. 0. 1. 0. 1.]]\n"
     ]
    }
   ],
   "source": [
    "z=np.zeros((8,8))\n",
    "z[0::2,0::2]=1\n",
    "z[1::2,1::2]=1\n",
    "print(z)"
   ]
  },
  {
   "cell_type": "code",
   "execution_count": null,
   "id": "e864f8db",
   "metadata": {},
   "outputs": [],
   "source": []
  }
 ],
 "metadata": {
  "kernelspec": {
   "display_name": "Python 3 (ipykernel)",
   "language": "python",
   "name": "python3"
  },
  "language_info": {
   "codemirror_mode": {
    "name": "ipython",
    "version": 3
   },
   "file_extension": ".py",
   "mimetype": "text/x-python",
   "name": "python",
   "nbconvert_exporter": "python",
   "pygments_lexer": "ipython3",
   "version": "3.9.7"
  }
 },
 "nbformat": 4,
 "nbformat_minor": 5
}
