{
 "cells": [
  {
   "cell_type": "markdown",
   "metadata": {},
   "source": [
    "# Implementing AND gate using percepton"
   ]
  },
  {
   "cell_type": "code",
   "execution_count": 23,
   "metadata": {},
   "outputs": [
    {
     "data": {
      "text/plain": [
       "Perceptron()"
      ]
     },
     "execution_count": 23,
     "metadata": {},
     "output_type": "execute_result"
    }
   ],
   "source": [
    "from sklearn.linear_model import Perceptron\n",
    "\n",
    "#training data for AND\n",
    "x_train=[[0,0],[0,1],[1,0],[1,1]]\n",
    "y_train=[0,0,0,1]\n",
    "\n",
    "classifier=Perceptron(tol=1e-3,random_state=0)\n",
    "classifier.fit(x_train,y_train)"
   ]
  },
  {
   "cell_type": "code",
   "execution_count": 24,
   "metadata": {},
   "outputs": [],
   "source": [
    "y_pred=classifier.predict(x_train)"
   ]
  },
  {
   "cell_type": "code",
   "execution_count": 25,
   "metadata": {},
   "outputs": [
    {
     "name": "stdout",
     "output_type": "stream",
     "text": [
      "[0 0 0 1]\n",
      "[[2. 2.]] [-2.]\n"
     ]
    }
   ],
   "source": [
    "print(y_pred)\n",
    "print(classifier.coef_,classifier.intercept_)"
   ]
  },
  {
   "cell_type": "code",
   "execution_count": 26,
   "metadata": {},
   "outputs": [],
   "source": [
    "import numpy as np\n",
    "import pandas as pd\n",
    "import matplotlib.pyplot as plt\n",
    "import sklearn\n",
    "from sklearn.neural_network import MLPClassifier"
   ]
  },
  {
   "cell_type": "code",
   "execution_count": 27,
   "metadata": {},
   "outputs": [
    {
     "name": "stdout",
     "output_type": "stream",
     "text": [
      "(768, 9)\n"
     ]
    },
    {
     "data": {
      "text/html": [
       "<div>\n",
       "<style scoped>\n",
       "    .dataframe tbody tr th:only-of-type {\n",
       "        vertical-align: middle;\n",
       "    }\n",
       "\n",
       "    .dataframe tbody tr th {\n",
       "        vertical-align: top;\n",
       "    }\n",
       "\n",
       "    .dataframe thead th {\n",
       "        text-align: right;\n",
       "    }\n",
       "</style>\n",
       "<table border=\"1\" class=\"dataframe\">\n",
       "  <thead>\n",
       "    <tr style=\"text-align: right;\">\n",
       "      <th></th>\n",
       "      <th>count</th>\n",
       "      <th>mean</th>\n",
       "      <th>std</th>\n",
       "      <th>min</th>\n",
       "      <th>25%</th>\n",
       "      <th>50%</th>\n",
       "      <th>75%</th>\n",
       "      <th>max</th>\n",
       "    </tr>\n",
       "  </thead>\n",
       "  <tbody>\n",
       "    <tr>\n",
       "      <th>Pregnancies</th>\n",
       "      <td>768.0</td>\n",
       "      <td>3.845052</td>\n",
       "      <td>3.369578</td>\n",
       "      <td>0.000</td>\n",
       "      <td>1.00000</td>\n",
       "      <td>3.0000</td>\n",
       "      <td>6.00000</td>\n",
       "      <td>17.00</td>\n",
       "    </tr>\n",
       "    <tr>\n",
       "      <th>Glucose</th>\n",
       "      <td>768.0</td>\n",
       "      <td>120.894531</td>\n",
       "      <td>31.972618</td>\n",
       "      <td>0.000</td>\n",
       "      <td>99.00000</td>\n",
       "      <td>117.0000</td>\n",
       "      <td>140.25000</td>\n",
       "      <td>199.00</td>\n",
       "    </tr>\n",
       "    <tr>\n",
       "      <th>BloodPressure</th>\n",
       "      <td>768.0</td>\n",
       "      <td>69.105469</td>\n",
       "      <td>19.355807</td>\n",
       "      <td>0.000</td>\n",
       "      <td>62.00000</td>\n",
       "      <td>72.0000</td>\n",
       "      <td>80.00000</td>\n",
       "      <td>122.00</td>\n",
       "    </tr>\n",
       "    <tr>\n",
       "      <th>SkinThickness</th>\n",
       "      <td>768.0</td>\n",
       "      <td>20.536458</td>\n",
       "      <td>15.952218</td>\n",
       "      <td>0.000</td>\n",
       "      <td>0.00000</td>\n",
       "      <td>23.0000</td>\n",
       "      <td>32.00000</td>\n",
       "      <td>99.00</td>\n",
       "    </tr>\n",
       "    <tr>\n",
       "      <th>Insulin</th>\n",
       "      <td>768.0</td>\n",
       "      <td>79.799479</td>\n",
       "      <td>115.244002</td>\n",
       "      <td>0.000</td>\n",
       "      <td>0.00000</td>\n",
       "      <td>30.5000</td>\n",
       "      <td>127.25000</td>\n",
       "      <td>846.00</td>\n",
       "    </tr>\n",
       "    <tr>\n",
       "      <th>BMI</th>\n",
       "      <td>768.0</td>\n",
       "      <td>31.992578</td>\n",
       "      <td>7.884160</td>\n",
       "      <td>0.000</td>\n",
       "      <td>27.30000</td>\n",
       "      <td>32.0000</td>\n",
       "      <td>36.60000</td>\n",
       "      <td>67.10</td>\n",
       "    </tr>\n",
       "    <tr>\n",
       "      <th>DiabetesPedigreeFunction</th>\n",
       "      <td>768.0</td>\n",
       "      <td>0.471876</td>\n",
       "      <td>0.331329</td>\n",
       "      <td>0.078</td>\n",
       "      <td>0.24375</td>\n",
       "      <td>0.3725</td>\n",
       "      <td>0.62625</td>\n",
       "      <td>2.42</td>\n",
       "    </tr>\n",
       "    <tr>\n",
       "      <th>Age</th>\n",
       "      <td>768.0</td>\n",
       "      <td>33.240885</td>\n",
       "      <td>11.760232</td>\n",
       "      <td>21.000</td>\n",
       "      <td>24.00000</td>\n",
       "      <td>29.0000</td>\n",
       "      <td>41.00000</td>\n",
       "      <td>81.00</td>\n",
       "    </tr>\n",
       "    <tr>\n",
       "      <th>Outcome</th>\n",
       "      <td>768.0</td>\n",
       "      <td>0.348958</td>\n",
       "      <td>0.476951</td>\n",
       "      <td>0.000</td>\n",
       "      <td>0.00000</td>\n",
       "      <td>0.0000</td>\n",
       "      <td>1.00000</td>\n",
       "      <td>1.00</td>\n",
       "    </tr>\n",
       "  </tbody>\n",
       "</table>\n",
       "</div>"
      ],
      "text/plain": [
       "                          count        mean         std     min       25%  \\\n",
       "Pregnancies               768.0    3.845052    3.369578   0.000   1.00000   \n",
       "Glucose                   768.0  120.894531   31.972618   0.000  99.00000   \n",
       "BloodPressure             768.0   69.105469   19.355807   0.000  62.00000   \n",
       "SkinThickness             768.0   20.536458   15.952218   0.000   0.00000   \n",
       "Insulin                   768.0   79.799479  115.244002   0.000   0.00000   \n",
       "BMI                       768.0   31.992578    7.884160   0.000  27.30000   \n",
       "DiabetesPedigreeFunction  768.0    0.471876    0.331329   0.078   0.24375   \n",
       "Age                       768.0   33.240885   11.760232  21.000  24.00000   \n",
       "Outcome                   768.0    0.348958    0.476951   0.000   0.00000   \n",
       "\n",
       "                               50%        75%     max  \n",
       "Pregnancies                 3.0000    6.00000   17.00  \n",
       "Glucose                   117.0000  140.25000  199.00  \n",
       "BloodPressure              72.0000   80.00000  122.00  \n",
       "SkinThickness              23.0000   32.00000   99.00  \n",
       "Insulin                    30.5000  127.25000  846.00  \n",
       "BMI                        32.0000   36.60000   67.10  \n",
       "DiabetesPedigreeFunction    0.3725    0.62625    2.42  \n",
       "Age                        29.0000   41.00000   81.00  \n",
       "Outcome                     0.0000    1.00000    1.00  "
      ]
     },
     "execution_count": 27,
     "metadata": {},
     "output_type": "execute_result"
    }
   ],
   "source": [
    "df=pd.read_csv('diabetes.csv')\n",
    "#print(df)\n",
    "print(df.shape)\n",
    "df.describe().transpose()"
   ]
  },
  {
   "cell_type": "code",
   "execution_count": 28,
   "metadata": {},
   "outputs": [
    {
     "name": "stdout",
     "output_type": "stream",
     "text": [
      "0      1\n",
      "1      0\n",
      "2      1\n",
      "3      0\n",
      "4      1\n",
      "      ..\n",
      "763    0\n",
      "764    0\n",
      "765    0\n",
      "766    1\n",
      "767    0\n",
      "Name: Outcome, Length: 768, dtype: int64\n",
      "Index(['Pregnancies', 'Glucose', 'BloodPressure', 'SkinThickness', 'Insulin',\n",
      "       'BMI', 'DiabetesPedigreeFunction', 'Age'],\n",
      "      dtype='object')\n"
     ]
    }
   ],
   "source": [
    "#extracting independent and dependent\n",
    "y=df['Outcome']\n",
    "print(y)\n",
    "df=df.drop(['Outcome'],axis=1)\n",
    "x=df\n",
    "cols=df.columns\n",
    "print(cols)"
   ]
  },
  {
   "cell_type": "code",
   "execution_count": 29,
   "metadata": {},
   "outputs": [
    {
     "name": "stdout",
     "output_type": "stream",
     "text": [
      "(576, 8)\n",
      "(192, 8)\n"
     ]
    }
   ],
   "source": [
    "from sklearn.model_selection import train_test_split\n",
    "x_train,x_test,y_train,y_test=train_test_split(x,y,test_size=0.25,random_state=0)\n",
    "print(x_train.shape)\n",
    "print(x_test.shape)"
   ]
  },
  {
   "cell_type": "code",
   "execution_count": 30,
   "metadata": {},
   "outputs": [
    {
     "name": "stdout",
     "output_type": "stream",
     "text": [
      "[[0.52941176 0.44949495 0.50819672 ... 0.33532042 0.02732707 0.2       ]\n",
      " [0.05882353 0.5959596  0.47540984 ... 0.49627422 0.07813834 0.03333333]\n",
      " [0.         0.45959596 0.6557377  ... 0.4828614  0.22331341 0.1       ]\n",
      " ...\n",
      " [0.23529412 0.47474747 0.53278689 ... 0.3681073  0.02988898 0.        ]\n",
      " [0.64705882 0.42929293 0.60655738 ... 0.4485842  0.09479078 0.23333333]\n",
      " [0.29411765 0.68686869 0.67213115 ... 0.         0.23996584 0.8       ]]\n"
     ]
    }
   ],
   "source": [
    "from sklearn.preprocessing import MinMaxScaler\n",
    "st_x=MinMaxScaler()\n",
    "x_train=st_x.fit_transform(x_train)\n",
    "x_test=st_x.fit_transform(x_test)\n",
    "print(x_train)"
   ]
  },
  {
   "cell_type": "code",
   "execution_count": 31,
   "metadata": {},
   "outputs": [],
   "source": [
    "classifier=MLPClassifier(hidden_layer_sizes=(8,8,8),activation='relu',solver='adam',max_iter=500)\n",
    "classifier.fit(x_train,y_train)\n",
    "\n",
    "x_pred=classifier.predict(x_train)\n",
    "y_pred=classifier.predict(x_test)\n"
   ]
  },
  {
   "cell_type": "code",
   "execution_count": 32,
   "metadata": {},
   "outputs": [
    {
     "name": "stdout",
     "output_type": "stream",
     "text": [
      "[1 0 0 1 0 0 1 1 0 0 1 1 0 0 0 0 1 0 0 0 1 1 0 0 0 0 0 0 0 0 0 0 0 0 0 1 1\n",
      " 0 0 0 0 0 0 1 1 0 0 1 1 1 0 0 1 0 0 0 0 1 1 1 1 0 0 1 1 1 1 0 0 0 0 0 0 0\n",
      " 1 0 0 0 0 0 0 0 0 0 0 0 1 0 1 0 0 0 0 0 0 0 1 0 1 1 0 0 0 0 0 1 0 0 0 1 0\n",
      " 1 1 1 1 1 0 0 0 1 0 0 0 0 0 0 0 1 0 0 0 0 0 1 0 1 0 1 1 0 0 0 0 0 1 0 0 0\n",
      " 0 1 0 1 0 0 1 0 0 0 1 1 1 1 0 0 0 1 0 0 0 0 0 0 1 1 0 0 0 0 0 0 1 1 0 1 1\n",
      " 0 1 1 1 0 0 0]\n",
      "[1 0 0 1 0 0 1 1 1 1 1 1 0 1 0 0 1 0 0 0 1 0 0 0 0 1 0 1 0 0 1 1 0 1 0 1 1\n",
      " 0 1 1 1 0 0 1 1 0 0 0 1 0 1 0 1 1 0 0 0 0 0 0 1 1 0 1 1 1 1 0 1 0 0 0 0 1\n",
      " 1 0 0 1 0 1 1 1 1 0 0 0 0 1 1 0 0 0 0 0 1 0 1 1 1 0 1 0 0 0 1 1 0 1 0 1 0\n",
      " 1 1 1 1 1 0 1 0 1 1 1 1 1 0 0 0 1 1 0 1 0 0 1 1 1 0 1 1 0 0 1 0 0 1 0 0 0\n",
      " 0 1 0 0 0 1 1 0 1 0 0 1 1 1 0 0 1 1 0 0 0 0 0 0 0 1 1 0 1 0 0 0 0 1 0 1 1\n",
      " 0 1 0 1 0 0 0]\n"
     ]
    }
   ],
   "source": [
    "print(y_test.values)\n",
    "print(y_pred)"
   ]
  },
  {
   "cell_type": "code",
   "execution_count": 33,
   "metadata": {},
   "outputs": [
    {
     "name": "stdout",
     "output_type": "stream",
     "text": [
      "[[89 41]\n",
      " [13 49]]\n"
     ]
    }
   ],
   "source": [
    "from sklearn.metrics import confusion_matrix\n",
    "cm=confusion_matrix(y_test,y_pred)\n",
    "print(cm)"
   ]
  },
  {
   "cell_type": "code",
   "execution_count": 34,
   "metadata": {},
   "outputs": [
    {
     "name": "stdout",
     "output_type": "stream",
     "text": [
      "[[323  47]\n",
      " [ 70 136]]\n"
     ]
    }
   ],
   "source": [
    "from sklearn.metrics import confusion_matrix\n",
    "cm1=confusion_matrix(y_train,x_pred)\n",
    "print(cm1)"
   ]
  },
  {
   "cell_type": "code",
   "execution_count": 35,
   "metadata": {},
   "outputs": [
    {
     "data": {
      "text/plain": [
       "<sklearn.metrics._plot.confusion_matrix.ConfusionMatrixDisplay at 0x7f4bc8c284c0>"
      ]
     },
     "execution_count": 35,
     "metadata": {},
     "output_type": "execute_result"
    },
    {
     "data": {
      "image/png": "[encoded data removed]",
      "text/plain": [
       "<Figure size 432x288 with 2 Axes>"
      ]
     },
     "metadata": {
      "needs_background": "light"
     },
     "output_type": "display_data"
    }
   ],
   "source": [
    "#confusion matrix display\n",
    "from sklearn.metrics import ConfusionMatrixDisplay\n",
    "disp=ConfusionMatrixDisplay(confusion_matrix=cm,display_labels=classifier.classes_)\n",
    "disp.plot()"
   ]
  },
  {
   "cell_type": "code",
   "execution_count": 36,
   "metadata": {},
   "outputs": [
    {
     "data": {
      "text/plain": [
       "<sklearn.metrics._plot.confusion_matrix.ConfusionMatrixDisplay at 0x7f4bc8bb06d0>"
      ]
     },
     "execution_count": 36,
     "metadata": {},
     "output_type": "execute_result"
    },
    {
     "data": {
      "image/png": "[encoded data removed]",
      "text/plain": [
       "<Figure size 432x288 with 2 Axes>"
      ]
     },
     "metadata": {
      "needs_background": "light"
     },
     "output_type": "display_data"
    }
   ],
   "source": [
    "#confusion matrix display\n",
    "from sklearn.metrics import ConfusionMatrixDisplay\n",
    "disp=ConfusionMatrixDisplay(confusion_matrix=cm1,display_labels=classifier.classes_)\n",
    "disp.plot()"
   ]
  },
  {
   "cell_type": "code",
   "execution_count": 37,
   "metadata": {},
   "outputs": [
    {
     "data": {
      "text/plain": [
       "[array([[-9.58377132e-02, -4.98321164e-01, -3.34151984e-01,\n",
       "          6.98276677e-01,  7.30863016e-02,  2.36409932e-08,\n",
       "          3.69285815e-20,  5.07214617e-01],\n",
       "        [ 3.21692949e-01,  5.89206404e-01,  2.13504756e-01,\n",
       "          4.02235386e-01, -1.96801473e-01, -2.24013212e-14,\n",
       "         -2.63482697e-07,  6.33503895e-01],\n",
       "        [-4.27087130e-01, -1.98447165e-01,  3.27570115e-01,\n",
       "         -2.69827483e-01,  6.93736686e-01,  8.72319792e-03,\n",
       "         -1.47239275e-03, -4.32705523e-02],\n",
       "        [-1.78261717e-01,  2.41883113e-01, -1.88235554e-01,\n",
       "          7.25332605e-01, -4.15931273e-01,  2.81136725e-05,\n",
       "          7.47626241e-08,  3.64064041e-02],\n",
       "        [ 3.04508559e-01,  1.32037197e-01, -7.03082025e-01,\n",
       "         -3.69089384e-01,  4.80667958e-01,  7.19034422e-09,\n",
       "          9.99432234e-27,  4.58341965e-01],\n",
       "        [ 4.51411306e-01,  3.92994376e-01,  7.27146445e-01,\n",
       "          6.04674560e-01,  2.86215684e-01, -3.21830366e-05,\n",
       "         -1.48413712e-03,  3.24214710e-01],\n",
       "        [-4.78240560e-01, -5.63716551e-01,  3.07894322e-01,\n",
       "          1.66979089e-01, -3.03878849e-01, -1.35407563e-06,\n",
       "         -2.08312746e-04,  3.38528311e-01],\n",
       "        [ 2.46935325e-02, -3.03302789e-02, -9.45536943e-02,\n",
       "          6.98932056e-02, -1.21099525e+00, -3.38896970e-08,\n",
       "         -5.70443493e-03, -1.66978732e-02]]),\n",
       " array([[-7.41235189e-03, -1.27841565e-02, -1.95455840e-08,\n",
       "         -7.23078119e-02,  4.89075325e-01,  3.96644018e-01,\n",
       "          9.45187950e-02, -1.41765145e-05],\n",
       "        [ 2.92700335e-05, -7.27283953e-01,  9.73280274e-07,\n",
       "         -5.76159591e-01,  6.24122331e-01,  7.04360511e-01,\n",
       "         -5.31729169e-02,  4.99522033e-30],\n",
       "        [-1.65256285e-03, -7.75397650e-01,  5.26754262e-11,\n",
       "         -1.85312531e-01,  6.03138370e-01,  8.74666929e-01,\n",
       "         -2.44319336e-01,  1.80704918e-06],\n",
       "        [ 1.37441183e-08,  5.76673148e-01,  1.76330169e-32,\n",
       "          2.80725801e-01, -7.26068589e-01,  5.07372434e-01,\n",
       "         -2.41044705e-01, -4.66455212e-06],\n",
       "        [-3.34640145e-03,  1.29542285e+00, -6.66696699e-04,\n",
       "          1.01879576e+00, -8.25764796e-01, -1.03700477e+00,\n",
       "          6.33710511e-01, -1.22980140e-10],\n",
       "        [ 3.10717316e-24, -5.32562832e-33,  4.85516210e-05,\n",
       "          8.98399969e-28,  6.21015584e-03, -6.88402941e-06,\n",
       "          1.67403114e-05,  2.08951722e-13],\n",
       "        [-5.34881229e-08, -5.95980973e-20,  1.69825121e-04,\n",
       "         -8.34420147e-04, -3.66952750e-04, -2.54600450e-27,\n",
       "         -8.77651854e-04,  3.02376609e-03],\n",
       "        [-2.40215319e-31, -9.14315923e-01, -2.58517498e-06,\n",
       "         -9.00618077e-01,  3.61986215e-01,  7.52668755e-01,\n",
       "         -5.05223101e-01,  2.03141149e-06]]),\n",
       " array([[ 3.26890256e-03,  1.31181407e-17, -2.51645249e-03,\n",
       "          4.26311488e-08, -6.94779261e-05,  9.66240545e-05,\n",
       "          1.93446177e-04,  1.24333047e-03],\n",
       "        [-7.91401614e-01, -4.79948452e-02,  4.21406739e-01,\n",
       "          3.37113069e-01, -4.97996633e-01, -1.74922337e-01,\n",
       "         -2.99668676e-10,  7.15532338e-01],\n",
       "        [-4.61926256e-05, -2.26529196e-04,  1.65878356e-06,\n",
       "         -1.35368911e-16, -3.56819303e-03, -5.27669202e-11,\n",
       "         -3.41757100e-03, -4.30395448e-03],\n",
       "        [-4.01302381e-01, -1.24525398e-01,  8.67693541e-01,\n",
       "          8.00637954e-01, -7.72554021e-02, -4.13053806e-01,\n",
       "          5.17746475e-04,  1.44573138e-01],\n",
       "        [-3.31076565e-01,  6.98021782e-01, -5.06083617e-01,\n",
       "         -6.52361584e-01, -8.36268772e-02,  5.24364679e-01,\n",
       "          9.41436352e-04,  1.39874881e-02],\n",
       "        [ 6.77126577e-01,  5.26628681e-01, -6.94574923e-01,\n",
       "         -3.55975200e-01, -4.81127758e-01,  5.74307081e-01,\n",
       "         -1.96287937e-07, -7.22630746e-01],\n",
       "        [ 7.56762937e-02, -2.20285078e-01,  1.11884667e+00,\n",
       "          5.01807032e-01,  4.87314914e-02, -3.99131480e-01,\n",
       "         -1.77166091e-20,  4.06558299e-01],\n",
       "        [-3.66940562e-23,  9.90265238e-32, -4.60727353e-04,\n",
       "          8.16496839e-29, -5.36823702e-04,  1.67900398e-11,\n",
       "         -1.95140503e-06,  9.25627483e-04]]),\n",
       " array([[ 3.12760479e-01],\n",
       "        [ 9.54597156e-01],\n",
       "        [-3.47777907e-01],\n",
       "        [-1.25373056e+00],\n",
       "        [ 9.58409428e-02],\n",
       "        [ 8.86739640e-01],\n",
       "        [ 1.48642268e-33],\n",
       "        [-1.22947823e+00]])]"
      ]
     },
     "execution_count": 37,
     "metadata": {},
     "output_type": "execute_result"
    }
   ],
   "source": [
    "#classifier intercepts\n",
    "classifier.coefs_\n"
   ]
  },
  {
   "cell_type": "code",
   "execution_count": 38,
   "metadata": {},
   "outputs": [
    {
     "data": {
      "text/plain": [
       "[array([ 0.50002272, -0.28202808, -0.30503293,  0.67132608, -0.10453206,\n",
       "        -0.55051535, -0.29293697, -0.42327822]),\n",
       " array([-0.05029358,  0.07717188, -0.00363557,  0.34613829,  0.51541575,\n",
       "        -0.68115587,  0.84021711, -0.02367503]),\n",
       " array([ 0.3025236 , -0.07059295,  0.66638542,  0.27698189,  0.29906155,\n",
       "         0.21099215, -0.56492875,  0.26272397]),\n",
       " array([0.44441515])]"
      ]
     },
     "execution_count": 38,
     "metadata": {},
     "output_type": "execute_result"
    }
   ],
   "source": [
    "classifier.intercepts_"
   ]
  },
  {
   "cell_type": "code",
   "execution_count": null,
   "metadata": {},
   "outputs": [],
   "source": []
  },
  {
   "cell_type": "code",
   "execution_count": null,
   "metadata": {},
   "outputs": [],
   "source": []
  }
 ],
 "metadata": {
  "kernelspec": {
   "display_name": "Python 3",
   "language": "python",
   "name": "python3"
  },
  "language_info": {
   "codemirror_mode": {
    "name": "ipython",
    "version": 3
   },
   "file_extension": ".py",
   "mimetype": "text/x-python",
   "name": "python",
   "nbconvert_exporter": "python",
   "pygments_lexer": "ipython3",
   "version": "3.8.5"
  }
 },
 "nbformat": 4,
 "nbformat_minor": 4
}
