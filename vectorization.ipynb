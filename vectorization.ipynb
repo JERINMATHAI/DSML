{
 "cells": [
  {
   "cell_type": "markdown",
   "id": "ff44f6ff",
   "metadata": {},
   "source": [
    "# VECTORIZATION"
   ]
  },
  {
   "cell_type": "code",
   "execution_count": 1,
   "id": "d0b813d2",
   "metadata": {},
   "outputs": [
    {
     "data": {
      "text/plain": [
       "'Mon Jan 31 16:52:28 2022'"
      ]
     },
     "execution_count": 1,
     "metadata": {},
     "output_type": "execute_result"
    }
   ],
   "source": [
    "import time\n",
    "time.ctime()"
   ]
  },
  {
   "cell_type": "code",
   "execution_count": 2,
   "id": "c3bb6a71",
   "metadata": {},
   "outputs": [
    {
     "name": "stdout",
     "output_type": "stream",
     "text": [
      "Sum :  190\n",
      "Time taken 0.0007495880126953125\n",
      "Sum :  190\n",
      "Time taken 0.0017502307891845703\n"
     ]
    }
   ],
   "source": [
    "import time\n",
    "import numpy as np\n",
    "size=20\n",
    "\n",
    "# LIST\n",
    "\n",
    "list=range(size)\n",
    "start_list=time.time()\n",
    "\n",
    "sum=0\n",
    "for i in list:\n",
    "    sum=sum+i\n",
    "print(\"Sum : \",sum)\n",
    "print(\"Time taken\",time.time()-start_list)\n",
    "\n",
    "\n",
    "\n",
    "arr=np.arange(size)\n",
    "start_array=time.time()\n",
    "sum=np.sum(arr)\n",
    "\n",
    "print(\"Sum : \",sum)\n",
    "print(\"Time taken\",time.time()-start_list)"
   ]
  },
  {
   "cell_type": "code",
   "execution_count": 3,
   "id": "9fa71659",
   "metadata": {},
   "outputs": [
    {
     "name": "stdout",
     "output_type": "stream",
     "text": [
      "Array is \n",
      " [[  1   2   3]\n",
      " [ 10  20  30]\n",
      " [100 200 300]]\n",
      "Transpose of the array is \n",
      " [[  1  10 100]\n",
      " [  2  20 200]\n",
      " [  3  30 300]]\n"
     ]
    }
   ],
   "source": [
    "#TRANSPOSE\n",
    "\n",
    "arr=np.array([[1,2,3],[10,20,30],[100,200,300]])\n",
    "print(\"Array is \\n\",arr)\n",
    "a=np.transpose(arr)\n",
    "print(\"Transpose of the array is \\n\",a)"
   ]
  },
  {
   "cell_type": "code",
   "execution_count": 4,
   "id": "2d5adc26",
   "metadata": {},
   "outputs": [
    {
     "name": "stdout",
     "output_type": "stream",
     "text": [
      "Determinant : \n",
      " 41.999999999999986\n",
      "Inverse : \n",
      " [[ 0.14285714 -0.07142857]\n",
      " [-0.04761905  0.19047619]]\n"
     ]
    }
   ],
   "source": [
    "import numpy as np\n",
    "from numpy import linalg\n",
    "arr=np.array([[8,3],[2,6]])\n",
    "print(\"Determinant : \\n\",np.linalg.det(arr))\n",
    "print(\"Inverse : \\n\",np.linalg.inv(arr))"
   ]
  },
  {
   "cell_type": "code",
   "execution_count": 7,
   "id": "d2c5e9d4",
   "metadata": {},
   "outputs": [
    {
     "name": "stdout",
     "output_type": "stream",
     "text": [
      "a =\n",
      "  [[2 2 1]\n",
      " [1 3 1]\n",
      " [1 2 2]]\n",
      "Eigen Values :  [5. 1. 1.]\n",
      "Eigen vectors :\n",
      "\n",
      "  [[ 0.57735027  0.16903085 -0.79970556]\n",
      " [ 0.57735027 -0.50709255  0.53555105]\n",
      " [ 0.57735027  0.84515425 -0.27139654]]\n"
     ]
    }
   ],
   "source": [
    "import numpy as np\n",
    "a=np.array([[2,2,1],[1,3,1],[1,2,2]])\n",
    "print(\"a =\\n \",a)\n",
    "w,v=np.linalg.eig(a)\n",
    "print(\"Eigen Values : \",w)\n",
    "print(\"Eigen vectors :\\n\\n \",v)"
   ]
  },
  {
   "cell_type": "code",
   "execution_count": null,
   "id": "ba83a056",
   "metadata": {},
   "outputs": [],
   "source": []
  }
 ],
 "metadata": {
  "kernelspec": {
   "display_name": "Python 3 (ipykernel)",
   "language": "python",
   "name": "python3"
  },
  "language_info": {
   "codemirror_mode": {
    "name": "ipython",
    "version": 3
   },
   "file_extension": ".py",
   "mimetype": "text/x-python",
   "name": "python",
   "nbconvert_exporter": "python",
   "pygments_lexer": "ipython3",
   "version": "3.9.7"
  }
 },
 "nbformat": 4,
 "nbformat_minor": 5
}
