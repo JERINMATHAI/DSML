{
 "cells": [
  {
   "cell_type": "code",
   "execution_count": 1,
   "metadata": {},
   "outputs": [
    {
     "name": "stdout",
     "output_type": "stream",
     "text": [
      "    fruit_label fruit_name     fruit_subtype  mass  width  height  color_score\n",
      "0             1      apple      granny_smith   192    8.4     7.3         0.55\n",
      "1             1      apple      granny_smith   180    8.0     6.8         0.59\n",
      "2             1      apple      granny_smith   176    7.4     7.2         0.60\n",
      "3             2   mandarin          mandarin    86    6.2     4.7         0.80\n",
      "4             2   mandarin          mandarin    84    6.0     4.6         0.79\n",
      "5             2   mandarin          mandarin    80    5.8     4.3         0.77\n",
      "6             2   mandarin          mandarin    80    5.9     4.3         0.81\n",
      "7             2   mandarin          mandarin    76    5.8     4.0         0.81\n",
      "8             1      apple          braeburn   178    7.1     7.8         0.92\n",
      "9             1      apple          braeburn   172    7.4     7.0         0.89\n",
      "10            1      apple          braeburn   166    6.9     7.3         0.93\n",
      "11            1      apple          braeburn   172    7.1     7.6         0.92\n",
      "12            1      apple          braeburn   154    7.0     7.1         0.88\n",
      "13            1      apple  golden_delicious   164    7.3     7.7         0.70\n",
      "14            1      apple  golden_delicious   152    7.6     7.3         0.69\n",
      "15            1      apple  golden_delicious   156    7.7     7.1         0.69\n",
      "16            1      apple  golden_delicious   156    7.6     7.5         0.67\n",
      "17            1      apple  golden_delicious   168    7.5     7.6         0.73\n",
      "18            1      apple       cripps_pink   162    7.5     7.1         0.83\n",
      "19            1      apple       cripps_pink   162    7.4     7.2         0.85\n",
      "20            1      apple       cripps_pink   160    7.5     7.5         0.86\n",
      "21            1      apple       cripps_pink   156    7.4     7.4         0.84\n",
      "22            1      apple       cripps_pink   140    7.3     7.1         0.87\n",
      "23            1      apple       cripps_pink   170    7.6     7.9         0.88\n",
      "24            3     orange     spanish_jumbo   342    9.0     9.4         0.75\n",
      "25            3     orange     spanish_jumbo   356    9.2     9.2         0.75\n",
      "26            3     orange     spanish_jumbo   362    9.6     9.2         0.74\n",
      "27            3     orange  selected_seconds   204    7.5     9.2         0.77\n",
      "28            3     orange  selected_seconds   140    6.7     7.1         0.72\n",
      "29            3     orange  selected_seconds   160    7.0     7.4         0.81\n",
      "30            3     orange  selected_seconds   158    7.1     7.5         0.79\n",
      "31            3     orange  selected_seconds   210    7.8     8.0         0.82\n",
      "32            3     orange  selected_seconds   164    7.2     7.0         0.80\n",
      "33            3     orange      turkey_navel   190    7.5     8.1         0.74\n",
      "34            3     orange      turkey_navel   142    7.6     7.8         0.75\n",
      "35            3     orange      turkey_navel   150    7.1     7.9         0.75\n",
      "36            3     orange      turkey_navel   160    7.1     7.6         0.76\n",
      "37            3     orange      turkey_navel   154    7.3     7.3         0.79\n",
      "38            3     orange      turkey_navel   158    7.2     7.8         0.77\n",
      "39            3     orange      turkey_navel   144    6.8     7.4         0.75\n",
      "40            3     orange      turkey_navel   154    7.1     7.5         0.78\n",
      "41            3     orange      turkey_navel   180    7.6     8.2         0.79\n",
      "42            3     orange      turkey_navel   154    7.2     7.2         0.82\n",
      "43            4      lemon    spanish_belsan   194    7.2    10.3         0.70\n",
      "44            4      lemon    spanish_belsan   200    7.3    10.5         0.72\n",
      "45            4      lemon    spanish_belsan   186    7.2     9.2         0.72\n",
      "46            4      lemon    spanish_belsan   216    7.3    10.2         0.71\n",
      "47            4      lemon    spanish_belsan   196    7.3     9.7         0.72\n",
      "48            4      lemon    spanish_belsan   174    7.3    10.1         0.72\n",
      "49            4      lemon           unknown   132    5.8     8.7         0.73\n",
      "50            4      lemon           unknown   130    6.0     8.2         0.71\n",
      "51            4      lemon           unknown   116    6.0     7.5         0.72\n",
      "52            4      lemon           unknown   118    5.9     8.0         0.72\n",
      "53            4      lemon           unknown   120    6.0     8.4         0.74\n",
      "54            4      lemon           unknown   116    6.1     8.5         0.71\n",
      "55            4      lemon           unknown   116    6.3     7.7         0.72\n",
      "56            4      lemon           unknown   116    5.9     8.1         0.73\n",
      "57            4      lemon           unknown   152    6.5     8.5         0.72\n",
      "58            4      lemon           unknown   118    6.1     8.1         0.70\n"
     ]
    }
   ],
   "source": [
    "import numpy as np\n",
    "import pandas as pd\n",
    "df = pd.read_csv('fruit_data.csv')\n",
    "print(df)\n"
   ]
  },
  {
   "cell_type": "code",
   "execution_count": 2,
   "metadata": {},
   "outputs": [
    {
     "name": "stdout",
     "output_type": "stream",
     "text": [
      "Index(['fruit_label', 'fruit_name', 'fruit_subtype', 'mass', 'width', 'height',\n",
      "       'color_score'],\n",
      "      dtype='object')\n"
     ]
    },
    {
     "data": {
      "text/plain": [
       "fruit_name\n",
       "orange      19\n",
       "apple       19\n",
       "lemon       16\n",
       "mandarin     5\n",
       "dtype: int64"
      ]
     },
     "execution_count": 2,
     "metadata": {},
     "output_type": "execute_result"
    }
   ],
   "source": [
    "df.shape\n",
    "cols=df.columns\n",
    "print(cols)\n",
    "df.value_counts(\"fruit_name\")"
   ]
  },
  {
   "cell_type": "code",
   "execution_count": 6,
   "metadata": {},
   "outputs": [],
   "source": [
    "y = df['fruit_name']"
   ]
  },
  {
   "cell_type": "code",
   "execution_count": 7,
   "metadata": {},
   "outputs": [],
   "source": [
    "df.drop('fruit_name', axis = 1,inplace = True)"
   ]
  },
  {
   "cell_type": "code",
   "execution_count": 8,
   "metadata": {},
   "outputs": [
    {
     "name": "stdout",
     "output_type": "stream",
     "text": [
      "Index(['fruit_subtype', 'mass', 'width', 'height', 'color_score'], dtype='object')\n"
     ]
    }
   ],
   "source": [
    "df.drop('fruit_label', axis = 1,inplace=True)\n",
    "cols=df.columns\n",
    "print(cols)"
   ]
  },
  {
   "cell_type": "code",
   "execution_count": 9,
   "metadata": {},
   "outputs": [],
   "source": [
    "x=df"
   ]
  },
  {
   "cell_type": "code",
   "execution_count": 17,
   "metadata": {},
   "outputs": [
    {
     "name": "stdout",
     "output_type": "stream",
     "text": [
      "    fruit_subtype  mass  width  height  color_score\n",
      "0               3   192    8.4     7.3         0.55\n",
      "1               3   180    8.0     6.8         0.59\n",
      "2               3   176    7.4     7.2         0.60\n",
      "3               4    86    6.2     4.7         0.80\n",
      "4               4    84    6.0     4.6         0.79\n",
      "5               4    80    5.8     4.3         0.77\n",
      "6               4    80    5.9     4.3         0.81\n",
      "7               4    76    5.8     4.0         0.81\n",
      "8               0   178    7.1     7.8         0.92\n",
      "9               0   172    7.4     7.0         0.89\n",
      "10              0   166    6.9     7.3         0.93\n",
      "11              0   172    7.1     7.6         0.92\n",
      "12              0   154    7.0     7.1         0.88\n",
      "13              2   164    7.3     7.7         0.70\n",
      "14              2   152    7.6     7.3         0.69\n",
      "15              2   156    7.7     7.1         0.69\n",
      "16              2   156    7.6     7.5         0.67\n",
      "17              2   168    7.5     7.6         0.73\n",
      "18              1   162    7.5     7.1         0.83\n",
      "19              1   162    7.4     7.2         0.85\n",
      "20              1   160    7.5     7.5         0.86\n",
      "21              1   156    7.4     7.4         0.84\n",
      "22              1   140    7.3     7.1         0.87\n",
      "23              1   170    7.6     7.9         0.88\n",
      "24              7   342    9.0     9.4         0.75\n",
      "25              7   356    9.2     9.2         0.75\n",
      "26              7   362    9.6     9.2         0.74\n",
      "27              5   204    7.5     9.2         0.77\n",
      "28              5   140    6.7     7.1         0.72\n",
      "29              5   160    7.0     7.4         0.81\n",
      "30              5   158    7.1     7.5         0.79\n",
      "31              5   210    7.8     8.0         0.82\n",
      "32              5   164    7.2     7.0         0.80\n",
      "33              8   190    7.5     8.1         0.74\n",
      "34              8   142    7.6     7.8         0.75\n",
      "35              8   150    7.1     7.9         0.75\n",
      "36              8   160    7.1     7.6         0.76\n",
      "37              8   154    7.3     7.3         0.79\n",
      "38              8   158    7.2     7.8         0.77\n",
      "39              8   144    6.8     7.4         0.75\n",
      "40              8   154    7.1     7.5         0.78\n",
      "41              8   180    7.6     8.2         0.79\n",
      "42              8   154    7.2     7.2         0.82\n",
      "43              6   194    7.2    10.3         0.70\n",
      "44              6   200    7.3    10.5         0.72\n",
      "45              6   186    7.2     9.2         0.72\n",
      "46              6   216    7.3    10.2         0.71\n",
      "47              6   196    7.3     9.7         0.72\n",
      "48              6   174    7.3    10.1         0.72\n",
      "49              9   132    5.8     8.7         0.73\n",
      "50              9   130    6.0     8.2         0.71\n",
      "51              9   116    6.0     7.5         0.72\n",
      "52              9   118    5.9     8.0         0.72\n",
      "53              9   120    6.0     8.4         0.74\n",
      "54              9   116    6.1     8.5         0.71\n",
      "55              9   116    6.3     7.7         0.72\n",
      "56              9   116    5.9     8.1         0.73\n",
      "57              9   152    6.5     8.5         0.72\n",
      "58              9   118    6.1     8.1         0.70\n"
     ]
    }
   ],
   "source": [
    "from sklearn.preprocessing import LabelEncoder\n",
    "label_encoder_x= LabelEncoder()\n",
    "x['fruit_subtype']= label_encoder_x.fit_transform(x['fruit_subtype'])\n",
    "print(x)\n"
   ]
  },
  {
   "cell_type": "code",
   "execution_count": 18,
   "metadata": {},
   "outputs": [
    {
     "data": {
      "text/html": [
       "<div>\n",
       "<style scoped>\n",
       "    .dataframe tbody tr th:only-of-type {\n",
       "        vertical-align: middle;\n",
       "    }\n",
       "\n",
       "    .dataframe tbody tr th {\n",
       "        vertical-align: top;\n",
       "    }\n",
       "\n",
       "    .dataframe thead th {\n",
       "        text-align: right;\n",
       "    }\n",
       "</style>\n",
       "<table border=\"1\" class=\"dataframe\">\n",
       "  <thead>\n",
       "    <tr style=\"text-align: right;\">\n",
       "      <th></th>\n",
       "      <th>fruit_subtype</th>\n",
       "      <th>mass</th>\n",
       "      <th>width</th>\n",
       "      <th>height</th>\n",
       "      <th>color_score</th>\n",
       "    </tr>\n",
       "  </thead>\n",
       "  <tbody>\n",
       "    <tr>\n",
       "      <th>count</th>\n",
       "      <td>59.000000</td>\n",
       "      <td>59.000000</td>\n",
       "      <td>59.000000</td>\n",
       "      <td>59.000000</td>\n",
       "      <td>59.000000</td>\n",
       "    </tr>\n",
       "    <tr>\n",
       "      <th>mean</th>\n",
       "      <td>5.118644</td>\n",
       "      <td>163.118644</td>\n",
       "      <td>7.105085</td>\n",
       "      <td>7.693220</td>\n",
       "      <td>0.762881</td>\n",
       "    </tr>\n",
       "    <tr>\n",
       "      <th>std</th>\n",
       "      <td>3.079883</td>\n",
       "      <td>55.018832</td>\n",
       "      <td>0.816938</td>\n",
       "      <td>1.361017</td>\n",
       "      <td>0.076857</td>\n",
       "    </tr>\n",
       "    <tr>\n",
       "      <th>min</th>\n",
       "      <td>0.000000</td>\n",
       "      <td>76.000000</td>\n",
       "      <td>5.800000</td>\n",
       "      <td>4.000000</td>\n",
       "      <td>0.550000</td>\n",
       "    </tr>\n",
       "    <tr>\n",
       "      <th>25%</th>\n",
       "      <td>2.000000</td>\n",
       "      <td>140.000000</td>\n",
       "      <td>6.600000</td>\n",
       "      <td>7.200000</td>\n",
       "      <td>0.720000</td>\n",
       "    </tr>\n",
       "    <tr>\n",
       "      <th>50%</th>\n",
       "      <td>5.000000</td>\n",
       "      <td>158.000000</td>\n",
       "      <td>7.200000</td>\n",
       "      <td>7.600000</td>\n",
       "      <td>0.750000</td>\n",
       "    </tr>\n",
       "    <tr>\n",
       "      <th>75%</th>\n",
       "      <td>8.000000</td>\n",
       "      <td>177.000000</td>\n",
       "      <td>7.500000</td>\n",
       "      <td>8.200000</td>\n",
       "      <td>0.810000</td>\n",
       "    </tr>\n",
       "    <tr>\n",
       "      <th>max</th>\n",
       "      <td>9.000000</td>\n",
       "      <td>362.000000</td>\n",
       "      <td>9.600000</td>\n",
       "      <td>10.500000</td>\n",
       "      <td>0.930000</td>\n",
       "    </tr>\n",
       "  </tbody>\n",
       "</table>\n",
       "</div>"
      ],
      "text/plain": [
       "       fruit_subtype        mass      width     height  color_score\n",
       "count      59.000000   59.000000  59.000000  59.000000    59.000000\n",
       "mean        5.118644  163.118644   7.105085   7.693220     0.762881\n",
       "std         3.079883   55.018832   0.816938   1.361017     0.076857\n",
       "min         0.000000   76.000000   5.800000   4.000000     0.550000\n",
       "25%         2.000000  140.000000   6.600000   7.200000     0.720000\n",
       "50%         5.000000  158.000000   7.200000   7.600000     0.750000\n",
       "75%         8.000000  177.000000   7.500000   8.200000     0.810000\n",
       "max         9.000000  362.000000   9.600000  10.500000     0.930000"
      ]
     },
     "execution_count": 18,
     "metadata": {},
     "output_type": "execute_result"
    }
   ],
   "source": [
    "df.describe()"
   ]
  },
  {
   "cell_type": "code",
   "execution_count": 19,
   "metadata": {},
   "outputs": [],
   "source": [
    "from sklearn.model_selection import train_test_split  \n",
    "x_train, x_test, y_train, y_test= train_test_split(x, y, test_size= 0.25, random_state=0) "
   ]
  },
  {
   "cell_type": "code",
   "execution_count": 20,
   "metadata": {},
   "outputs": [
    {
     "name": "stdout",
     "output_type": "stream",
     "text": [
      "[[0.88888889 0.27857143 0.41176471 0.49230769 0.72972973]\n",
      " [0.66666667 0.35       0.44117647 0.93846154 0.45945946]\n",
      " [0.44444444 0.         0.         0.         0.7027027 ]\n",
      " [0.22222222 0.27142857 0.52941176 0.50769231 0.37837838]\n",
      " [0.55555556 0.31428571 0.41176471 0.46153846 0.67567568]\n",
      " [1.         0.2        0.         0.72307692 0.48648649]\n",
      " [0.55555556 0.3        0.35294118 0.52307692 0.7027027 ]\n",
      " [0.88888889 0.27857143 0.44117647 0.50769231 0.64864865]\n",
      " [1.         0.14285714 0.02941176 0.63076923 0.48648649]\n",
      " [0.11111111 0.30714286 0.5        0.47692308 0.75675676]\n",
      " [1.         0.14285714 0.14705882 0.56923077 0.45945946]\n",
      " [0.55555556 0.45714286 0.5        0.8        0.59459459]\n",
      " [0.22222222 0.28571429 0.55882353 0.47692308 0.37837838]\n",
      " [0.44444444 0.01428571 0.         0.04615385 0.59459459]\n",
      " [0.55555556 0.47857143 0.58823529 0.61538462 0.72972973]\n",
      " [0.22222222 0.28571429 0.52941176 0.53846154 0.32432432]\n",
      " [1.         0.19285714 0.05882353 0.64615385 0.43243243]\n",
      " [0.11111111 0.3        0.5        0.53846154 0.83783784]\n",
      " [1.         0.14285714 0.05882353 0.53846154 0.45945946]\n",
      " [0.         0.36428571 0.38235294 0.58461538 1.        ]\n",
      " [0.22222222 0.31428571 0.44117647 0.56923077 0.40540541]\n",
      " [0.77777778 1.         1.         0.8        0.54054054]\n",
      " [0.22222222 0.32857143 0.5        0.55384615 0.48648649]\n",
      " [1.         0.15       0.08823529 0.63076923 0.40540541]\n",
      " [1.         0.27142857 0.20588235 0.69230769 0.45945946]\n",
      " [1.         0.15       0.02941176 0.61538462 0.45945946]\n",
      " [0.88888889 0.29285714 0.41176471 0.58461538 0.59459459]\n",
      " [0.33333333 0.37142857 0.64705882 0.43076923 0.10810811]\n",
      " [0.         0.27857143 0.35294118 0.47692308 0.89189189]\n",
      " [0.66666667 0.39285714 0.41176471 0.8        0.45945946]\n",
      " [0.77777778 0.95       0.94117647 0.83076923 0.54054054]\n",
      " [0.44444444 0.01428571 0.02941176 0.04615385 0.7027027 ]\n",
      " [0.11111111 0.33571429 0.52941176 0.6        0.89189189]\n",
      " [0.88888889 0.3        0.38235294 0.55384615 0.56756757]\n",
      " [0.11111111 0.28571429 0.47058824 0.52307692 0.78378378]\n",
      " [0.11111111 0.30714286 0.47058824 0.49230769 0.81081081]\n",
      " [0.         0.34285714 0.47058824 0.46153846 0.91891892]\n",
      " [0.88888889 0.24285714 0.29411765 0.52307692 0.54054054]\n",
      " [1.         0.14285714 0.08823529 0.69230769 0.43243243]\n",
      " [0.44444444 0.03571429 0.11764706 0.10769231 0.67567568]\n",
      " [0.33333333 0.41428571 0.76470588 0.50769231 0.        ]\n",
      " [1.         0.15714286 0.05882353 0.67692308 0.51351351]\n",
      " [0.66666667 0.42857143 0.44117647 0.87692308 0.45945946]\n",
      " [0.66666667 0.44285714 0.44117647 1.         0.45945946]]\n"
     ]
    }
   ],
   "source": [
    "from sklearn.preprocessing import MinMaxScaler    \n",
    "st_x= MinMaxScaler()    \n",
    "x_train= st_x.fit_transform(x_train) \n",
    "x_test=st_x.fit_transform(x_test)\n",
    "print(x_train)"
   ]
  },
  {
   "cell_type": "code",
   "execution_count": 21,
   "metadata": {},
   "outputs": [
    {
     "data": {
      "text/plain": [
       "KNeighborsClassifier()"
      ]
     },
     "execution_count": 21,
     "metadata": {},
     "output_type": "execute_result"
    }
   ],
   "source": [
    "from sklearn.neighbors import KNeighborsClassifier \n",
    "classifier = KNeighborsClassifier(n_neighbors = 5)\n",
    "classifier.fit(x_train,y_train)"
   ]
  },
  {
   "cell_type": "code",
   "execution_count": 22,
   "metadata": {},
   "outputs": [
    {
     "name": "stdout",
     "output_type": "stream",
     "text": [
      "['orange' 'orange' 'lemon' 'orange' 'apple' 'apple' 'orange' 'lemon'\n",
      " 'orange' 'apple' 'mandarin' 'apple' 'orange' 'orange' 'orange']\n"
     ]
    }
   ],
   "source": [
    "y_pred= classifier.predict(x_test)  \n",
    "print(y_pred)"
   ]
  },
  {
   "cell_type": "code",
   "execution_count": 23,
   "metadata": {},
   "outputs": [
    {
     "name": "stdout",
     "output_type": "stream",
     "text": [
      "[[4 0 0 0]\n",
      " [0 2 0 0]\n",
      " [0 0 1 0]\n",
      " [0 0 0 8]]\n"
     ]
    }
   ],
   "source": [
    "from sklearn.metrics import confusion_matrix\n",
    "cm= confusion_matrix (y_test, y_pred,labels=classifier.classes_)  \n",
    "print(cm)"
   ]
  },
  {
   "cell_type": "code",
   "execution_count": 24,
   "metadata": {},
   "outputs": [
    {
     "data": {
      "text/plain": [
       "<sklearn.metrics._plot.confusion_matrix.ConfusionMatrixDisplay at 0x1c34ee94bb0>"
      ]
     },
     "execution_count": 24,
     "metadata": {},
     "output_type": "execute_result"
    },
    {
     "data": {
      "image/png": "[encoded data removed]",
      "text/plain": [
       "<Figure size 432x288 with 2 Axes>"
      ]
     },
     "metadata": {
      "needs_background": "light"
     },
     "output_type": "display_data"
    }
   ],
   "source": [
    "from sklearn.metrics import ConfusionMatrixDisplay\n",
    "disp = ConfusionMatrixDisplay(confusion_matrix=cm,display_labels=classifier.classes_)\n",
    "disp.plot()"
   ]
  },
  {
   "cell_type": "code",
   "execution_count": 25,
   "metadata": {},
   "outputs": [
    {
     "name": "stdout",
     "output_type": "stream",
     "text": [
      "0.9772727272727273\n",
      "1.0\n"
     ]
    }
   ],
   "source": [
    "training_score = classifier.score(x_train, y_train)\n",
    "test_score = classifier.score(x_test, y_test)\n",
    "print(training_score)\n",
    "print(test_score)"
   ]
  },
  {
   "cell_type": "code",
   "execution_count": 26,
   "metadata": {},
   "outputs": [],
   "source": [
    "K = []\n",
    "training = []\n",
    "test = []\n",
    "scores = {}\n",
    "  \n",
    "for k in range(2, 22):\n",
    "    clf = KNeighborsClassifier(n_neighbors = k)\n",
    "    clf.fit(x_train, y_train)\n",
    "  \n",
    "    training_score = clf.score(x_train, y_train)\n",
    "    test_score = clf.score(x_test, y_test)\n",
    "    K.append(k)\n",
    "  \n",
    "    training.append(training_score)\n",
    "    test.append(test_score)\n",
    "    scores[k] = [training_score, test_score]"
   ]
  },
  {
   "cell_type": "code",
   "execution_count": 27,
   "metadata": {},
   "outputs": [
    {
     "name": "stdout",
     "output_type": "stream",
     "text": [
      "2 : [0.9772727272727273, 0.9333333333333333]\n",
      "3 : [0.9772727272727273, 0.9333333333333333]\n",
      "4 : [0.9772727272727273, 0.9333333333333333]\n",
      "5 : [0.9772727272727273, 1.0]\n",
      "6 : [0.9772727272727273, 0.9333333333333333]\n",
      "7 : [0.9772727272727273, 0.9333333333333333]\n",
      "8 : [0.9318181818181818, 0.8666666666666667]\n",
      "9 : [0.9545454545454546, 0.9333333333333333]\n",
      "10 : [0.9545454545454546, 0.6]\n",
      "11 : [0.8863636363636364, 0.6]\n",
      "12 : [0.8409090909090909, 0.5333333333333333]\n",
      "13 : [0.8181818181818182, 0.5333333333333333]\n",
      "14 : [0.75, 0.5333333333333333]\n",
      "15 : [0.75, 0.5333333333333333]\n",
      "16 : [0.7272727272727273, 0.5333333333333333]\n",
      "17 : [0.7272727272727273, 0.5333333333333333]\n",
      "18 : [0.7045454545454546, 0.5333333333333333]\n",
      "19 : [0.7045454545454546, 0.5333333333333333]\n",
      "20 : [0.7272727272727273, 0.4666666666666667]\n",
      "21 : [0.7045454545454546, 0.4666666666666667]\n"
     ]
    }
   ],
   "source": [
    "for keys, values in scores.items():\n",
    "    print(keys, ':', values)"
   ]
  },
  {
   "cell_type": "code",
   "execution_count": 28,
   "metadata": {},
   "outputs": [
    {
     "data": {
      "image/png": "[encoded data removed]",
      "text/plain": [
       "<Figure size 432x288 with 1 Axes>"
      ]
     },
     "metadata": {
      "needs_background": "light"
     },
     "output_type": "display_data"
    }
   ],
   "source": [
    "import matplotlib.pyplot as plt\n",
    "plt.scatter(K, training, color ='k')\n",
    "plt.scatter(K, test, color ='g')\n",
    "plt.show()"
   ]
  }
 ],
 "metadata": {
  "kernelspec": {
   "display_name": "Python 3 (ipykernel)",
   "language": "python",
   "name": "python3"
  },
  "language_info": {
   "codemirror_mode": {
    "name": "ipython",
    "version": 3
   },
   "file_extension": ".py",
   "mimetype": "text/x-python",
   "name": "python",
   "nbconvert_exporter": "python",
   "pygments_lexer": "ipython3",
   "version": "3.9.7"
  }
 },
 "nbformat": 4,
 "nbformat_minor": 4
}
